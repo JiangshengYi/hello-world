{
  "cells": [
    {
      "cell_type": "markdown",
      "metadata": {
        "id": "view-in-github",
        "colab_type": "text"
      },
      "source": [
        "<a href=\"https://colab.research.google.com/github/JiangshengYi/hello-world/blob/main/FashionCLIP_Feature_Extraction_and_Classification.ipynb\" target=\"_parent\"><img src=\"https://colab.research.google.com/assets/colab-badge.svg\" alt=\"Open In Colab\"/></a>"
      ]
    },
    {
      "cell_type": "markdown",
      "metadata": {
        "id": "xfz7BSY7SP5P"
      },
      "source": [
        "# A Hands-On Tutorial on FashionCLIP\n",
        "\n",
        "Welcome to our FashionCLIP tutorial! Here we will show how you can embed your own images with FashionCLIP and play with the representations.\n",
        "\n",
        "[![Youtube Video](https://img.shields.io/badge/youtube-video-red)](https://www.youtube.com/watch?v=uqRSc-KSA1Y)\n",
        "[![HuggingFace Model](https://img.shields.io/badge/HF%20Model-Weights-yellow)](https://huggingface.co/spaces/clip-italian/clip-italian-demo)\n",
        "[![Open In Colab](https://colab.research.google.com/assets/colab-badge.svg)](https://colab.research.google.com/drive/1Z1hAxBnWjF76bEi9KQ6CMBBEmI_FVDrW?usp=sharing)\n",
        "[![Medium Blog Post](https://raw.githubusercontent.com/aleen42/badges/master/src/medium.svg)](https://towardsdatascience.com/teaching-clip-some-fashion-3005ac3fdcc3)\n",
        "\n",
        "\n",
        "**VERY IMPORTANT** \\\n",
        "If your collection of images is large, make sure you are using a **GPU** (if you are on Colab go to Runtime -> Change Runtime Type). Otherwise it's going to take long to compute embeddings!\n",
        "\n",
        "\n",
        "### Use Cases\n",
        "\n",
        "We will go through three different possible usages of FashionCLIP:\n",
        "\n",
        "*   **Image Retrieval.** Given a query, we will find the image that best describe that query.\n",
        "\n",
        "*   **Zero Shot Classification.** Given an image, we will try to classify some images using some labels.\n",
        "\n",
        "*   **Feature Extraction for Supervised Learning.** We will extract image features using FashionCLIP and use them to do image classification."
      ]
    },
    {
      "cell_type": "markdown",
      "metadata": {
        "id": "VZ3s403V5LKs"
      },
      "source": [
        "## Getting Started\n",
        "\n",
        "To start this tutorial, let's first download some images!"
      ]
    },
    {
      "cell_type": "code",
      "execution_count": 1,
      "metadata": {
        "id": "mLyWzNhJwoS2"
      },
      "outputs": [],
      "source": [
        "%%capture\n",
        "!pip install gdown\n",
        "!gdown \"1igAuIEW_4h_51BG1o05WS0Q0-Cp17_-t&confirm=t\"\n",
        "!unzip data"
      ]
    },
    {
      "cell_type": "code",
      "source": [
        "!nvidia-smi"
      ],
      "metadata": {
        "id": "p-lJLsmHqvSQ",
        "outputId": "3a0eea83-ac38-4daa-fe08-aca577426e53",
        "colab": {
          "base_uri": "https://localhost:8080/"
        }
      },
      "execution_count": 10,
      "outputs": [
        {
          "output_type": "stream",
          "name": "stdout",
          "text": [
            "Fri Apr 21 02:44:20 2023       \n",
            "+-----------------------------------------------------------------------------+\n",
            "| NVIDIA-SMI 525.85.12    Driver Version: 525.85.12    CUDA Version: 12.0     |\n",
            "|-------------------------------+----------------------+----------------------+\n",
            "| GPU  Name        Persistence-M| Bus-Id        Disp.A | Volatile Uncorr. ECC |\n",
            "| Fan  Temp  Perf  Pwr:Usage/Cap|         Memory-Usage | GPU-Util  Compute M. |\n",
            "|                               |                      |               MIG M. |\n",
            "|===============================+======================+======================|\n",
            "|   0  Tesla T4            Off  | 00000000:00:04.0 Off |                    0 |\n",
            "| N/A   49C    P0    27W /  70W |   1745MiB / 15360MiB |      0%      Default |\n",
            "|                               |                      |                  N/A |\n",
            "+-------------------------------+----------------------+----------------------+\n",
            "                                                                               \n",
            "+-----------------------------------------------------------------------------+\n",
            "| Processes:                                                                  |\n",
            "|  GPU   GI   CI        PID   Type   Process name                  GPU Memory |\n",
            "|        ID   ID                                                   Usage      |\n",
            "|=============================================================================|\n",
            "+-----------------------------------------------------------------------------+\n"
          ]
        }
      ]
    },
    {
      "cell_type": "markdown",
      "metadata": {
        "id": "kFaN_ybWkI1F"
      },
      "source": [
        "The dataset we used is a sample that comes from [Kaggle](https://www.kaggle.com/competitions/h-and-m-personalized-fashion-recommendations).  We report here data access and use found on Kaggle.\n",
        "\n",
        "**A. Data Access and Use.**\n",
        "\n",
        "Competition Use and Non-Commercial & Academic Research: You may access and use the Competition Data for non-commercial purposes only, including for participating in the Competition and on Kaggle.com forums, and for academic research and education. The Competition Sponsor reserves the right to disqualify any participant who uses the Competition Data other than as permitted by the Competition Website and these Rules."
      ]
    },
    {
      "cell_type": "markdown",
      "metadata": {
        "id": "4dzpM2oASwM6"
      },
      "source": [
        "### The FashionCLIP Model\n",
        "\n",
        "We wrote a simple wrapper that allows you to play with the data a bit and do most of the things you might want to do with few lines of code!\n",
        "\n",
        "It should take 2/3 minutes to install."
      ]
    },
    {
      "cell_type": "code",
      "execution_count": 2,
      "metadata": {
        "id": "tyBLvPLgSx5h"
      },
      "outputs": [],
      "source": [
        "%%capture\n",
        "!pip install -U fashion-clip"
      ]
    },
    {
      "cell_type": "code",
      "execution_count": 3,
      "metadata": {
        "id": "WijCpqbIyH7T"
      },
      "outputs": [],
      "source": [
        "import sys\n",
        "#sys.path.append(\"fashion-clip/\")\n",
        "from fashion_clip.fashion_clip import FashionCLIP\n",
        "import pandas as pd\n",
        "import numpy as np\n",
        "from collections import Counter\n",
        "from PIL import Image\n",
        "import numpy as np\n",
        "from sklearn.metrics import classification_report\n",
        "from sklearn.model_selection import train_test_split\n",
        "from sklearn.metrics import *\n",
        "from sklearn.linear_model import LogisticRegression"
      ]
    },
    {
      "cell_type": "markdown",
      "metadata": {
        "id": "H1W2J4IAzlEz"
      },
      "source": [
        "Let's now FashionCLIP first. It's going to take a couple of minutes to download the model from the HuggingFace Hub."
      ]
    },
    {
      "cell_type": "code",
      "execution_count": 4,
      "metadata": {
        "id": "-xEzYFUbydJY"
      },
      "outputs": [],
      "source": [
        "%%capture\n",
        "fclip = FashionCLIP('fashion-clip')"
      ]
    },
    {
      "cell_type": "markdown",
      "metadata": {
        "id": "ViPu0y8C0UfS"
      },
      "source": [
        "FashionCLIP, as CLIP, creates a shared vector space for images and text. This allows us to tackle many tasks, such as retrieval (find the image that is most similar to a given query) or zero shot classification (find which lables fit an image best).\n",
        "\n",
        "There are basically two main components, and image encoder (to generate a vector starting from an image) and a text encoder (to generate a vector startinf from a piece of text). The general concept is summarized in the following GIF (in 2D)."
      ]
    },
    {
      "cell_type": "markdown",
      "metadata": {
        "id": "8oc2jvxPpFWQ"
      },
      "source": [
        "\n",
        "\n",
        "<img src=\"https://miro.medium.com/v2/resize:fit:1400/0*FLNMtW6jK51fm7Og\"  width=\"400\">\n",
        "\n"
      ]
    },
    {
      "cell_type": "markdown",
      "metadata": {
        "id": "AsPVQgNphwFX"
      },
      "source": [
        "First thing first, let's load the data! \n",
        "Also, let's drop some elements to simplify the analysis."
      ]
    },
    {
      "cell_type": "code",
      "execution_count": 5,
      "metadata": {
        "colab": {
          "base_uri": "https://localhost:8080/",
          "height": 393
        },
        "id": "9emW_P2fhxSW",
        "outputId": "921499fa-3601-4e15-855d-d9d4c1933a0d"
      },
      "outputs": [
        {
          "output_type": "execute_result",
          "data": {
            "text/plain": [
              "   article_id  product_code                   prod_name  product_type_no  \\\n",
              "0   108775044        108775                   Strap top              253   \n",
              "1   176754003        176754  2 Row Braided Headband (1)               74   \n",
              "3   189634031        189634           Long Leg Leggings              273   \n",
              "\n",
              "  product_type_name  product_group_name  graphical_appearance_no  \\\n",
              "0          Vest top  Garment Upper body                  1010016   \n",
              "1   Hair/alice band         Accessories                  1010016   \n",
              "3   Leggings/Tights  Garment Lower body                  1010016   \n",
              "\n",
              "  graphical_appearance_name  colour_group_code colour_group_name  ...  \\\n",
              "0                     Solid                 10             White  ...   \n",
              "1                     Solid                 17   Yellowish Brown  ...   \n",
              "3                     Solid                 93        Dark Green  ...   \n",
              "\n",
              "    department_name index_code          index_name index_group_no  \\\n",
              "0      Jersey Basic          A          Ladieswear              1   \n",
              "1  Hair Accessories          C  Ladies Accessories              1   \n",
              "3           Basic 1          D             Divided              2   \n",
              "\n",
              "   index_group_name section_no              section_name garment_group_no  \\\n",
              "0        Ladieswear         16    Womens Everyday Basics             1002   \n",
              "1        Ladieswear         66  Womens Small accessories             1019   \n",
              "3           Divided         51            Divided Basics             1002   \n",
              "\n",
              "   garment_group_name                                        detail_desc  \n",
              "0        Jersey Basic            Jersey top with narrow shoulder straps.  \n",
              "1         Accessories  Two-strand hairband with braids in imitation s...  \n",
              "3        Jersey Basic  Leggings in stretch jersey with an elasticated...  \n",
              "\n",
              "[3 rows x 25 columns]"
            ],
            "text/html": [
              "\n",
              "  <div id=\"df-5cfab4bb-0451-4dda-951e-c7dd9a825e2d\">\n",
              "    <div class=\"colab-df-container\">\n",
              "      <div>\n",
              "<style scoped>\n",
              "    .dataframe tbody tr th:only-of-type {\n",
              "        vertical-align: middle;\n",
              "    }\n",
              "\n",
              "    .dataframe tbody tr th {\n",
              "        vertical-align: top;\n",
              "    }\n",
              "\n",
              "    .dataframe thead th {\n",
              "        text-align: right;\n",
              "    }\n",
              "</style>\n",
              "<table border=\"1\" class=\"dataframe\">\n",
              "  <thead>\n",
              "    <tr style=\"text-align: right;\">\n",
              "      <th></th>\n",
              "      <th>article_id</th>\n",
              "      <th>product_code</th>\n",
              "      <th>prod_name</th>\n",
              "      <th>product_type_no</th>\n",
              "      <th>product_type_name</th>\n",
              "      <th>product_group_name</th>\n",
              "      <th>graphical_appearance_no</th>\n",
              "      <th>graphical_appearance_name</th>\n",
              "      <th>colour_group_code</th>\n",
              "      <th>colour_group_name</th>\n",
              "      <th>...</th>\n",
              "      <th>department_name</th>\n",
              "      <th>index_code</th>\n",
              "      <th>index_name</th>\n",
              "      <th>index_group_no</th>\n",
              "      <th>index_group_name</th>\n",
              "      <th>section_no</th>\n",
              "      <th>section_name</th>\n",
              "      <th>garment_group_no</th>\n",
              "      <th>garment_group_name</th>\n",
              "      <th>detail_desc</th>\n",
              "    </tr>\n",
              "  </thead>\n",
              "  <tbody>\n",
              "    <tr>\n",
              "      <th>0</th>\n",
              "      <td>108775044</td>\n",
              "      <td>108775</td>\n",
              "      <td>Strap top</td>\n",
              "      <td>253</td>\n",
              "      <td>Vest top</td>\n",
              "      <td>Garment Upper body</td>\n",
              "      <td>1010016</td>\n",
              "      <td>Solid</td>\n",
              "      <td>10</td>\n",
              "      <td>White</td>\n",
              "      <td>...</td>\n",
              "      <td>Jersey Basic</td>\n",
              "      <td>A</td>\n",
              "      <td>Ladieswear</td>\n",
              "      <td>1</td>\n",
              "      <td>Ladieswear</td>\n",
              "      <td>16</td>\n",
              "      <td>Womens Everyday Basics</td>\n",
              "      <td>1002</td>\n",
              "      <td>Jersey Basic</td>\n",
              "      <td>Jersey top with narrow shoulder straps.</td>\n",
              "    </tr>\n",
              "    <tr>\n",
              "      <th>1</th>\n",
              "      <td>176754003</td>\n",
              "      <td>176754</td>\n",
              "      <td>2 Row Braided Headband (1)</td>\n",
              "      <td>74</td>\n",
              "      <td>Hair/alice band</td>\n",
              "      <td>Accessories</td>\n",
              "      <td>1010016</td>\n",
              "      <td>Solid</td>\n",
              "      <td>17</td>\n",
              "      <td>Yellowish Brown</td>\n",
              "      <td>...</td>\n",
              "      <td>Hair Accessories</td>\n",
              "      <td>C</td>\n",
              "      <td>Ladies Accessories</td>\n",
              "      <td>1</td>\n",
              "      <td>Ladieswear</td>\n",
              "      <td>66</td>\n",
              "      <td>Womens Small accessories</td>\n",
              "      <td>1019</td>\n",
              "      <td>Accessories</td>\n",
              "      <td>Two-strand hairband with braids in imitation s...</td>\n",
              "    </tr>\n",
              "    <tr>\n",
              "      <th>3</th>\n",
              "      <td>189634031</td>\n",
              "      <td>189634</td>\n",
              "      <td>Long Leg Leggings</td>\n",
              "      <td>273</td>\n",
              "      <td>Leggings/Tights</td>\n",
              "      <td>Garment Lower body</td>\n",
              "      <td>1010016</td>\n",
              "      <td>Solid</td>\n",
              "      <td>93</td>\n",
              "      <td>Dark Green</td>\n",
              "      <td>...</td>\n",
              "      <td>Basic 1</td>\n",
              "      <td>D</td>\n",
              "      <td>Divided</td>\n",
              "      <td>2</td>\n",
              "      <td>Divided</td>\n",
              "      <td>51</td>\n",
              "      <td>Divided Basics</td>\n",
              "      <td>1002</td>\n",
              "      <td>Jersey Basic</td>\n",
              "      <td>Leggings in stretch jersey with an elasticated...</td>\n",
              "    </tr>\n",
              "  </tbody>\n",
              "</table>\n",
              "<p>3 rows × 25 columns</p>\n",
              "</div>\n",
              "      <button class=\"colab-df-convert\" onclick=\"convertToInteractive('df-5cfab4bb-0451-4dda-951e-c7dd9a825e2d')\"\n",
              "              title=\"Convert this dataframe to an interactive table.\"\n",
              "              style=\"display:none;\">\n",
              "        \n",
              "  <svg xmlns=\"http://www.w3.org/2000/svg\" height=\"24px\"viewBox=\"0 0 24 24\"\n",
              "       width=\"24px\">\n",
              "    <path d=\"M0 0h24v24H0V0z\" fill=\"none\"/>\n",
              "    <path d=\"M18.56 5.44l.94 2.06.94-2.06 2.06-.94-2.06-.94-.94-2.06-.94 2.06-2.06.94zm-11 1L8.5 8.5l.94-2.06 2.06-.94-2.06-.94L8.5 2.5l-.94 2.06-2.06.94zm10 10l.94 2.06.94-2.06 2.06-.94-2.06-.94-.94-2.06-.94 2.06-2.06.94z\"/><path d=\"M17.41 7.96l-1.37-1.37c-.4-.4-.92-.59-1.43-.59-.52 0-1.04.2-1.43.59L10.3 9.45l-7.72 7.72c-.78.78-.78 2.05 0 2.83L4 21.41c.39.39.9.59 1.41.59.51 0 1.02-.2 1.41-.59l7.78-7.78 2.81-2.81c.8-.78.8-2.07 0-2.86zM5.41 20L4 18.59l7.72-7.72 1.47 1.35L5.41 20z\"/>\n",
              "  </svg>\n",
              "      </button>\n",
              "      \n",
              "  <style>\n",
              "    .colab-df-container {\n",
              "      display:flex;\n",
              "      flex-wrap:wrap;\n",
              "      gap: 12px;\n",
              "    }\n",
              "\n",
              "    .colab-df-convert {\n",
              "      background-color: #E8F0FE;\n",
              "      border: none;\n",
              "      border-radius: 50%;\n",
              "      cursor: pointer;\n",
              "      display: none;\n",
              "      fill: #1967D2;\n",
              "      height: 32px;\n",
              "      padding: 0 0 0 0;\n",
              "      width: 32px;\n",
              "    }\n",
              "\n",
              "    .colab-df-convert:hover {\n",
              "      background-color: #E2EBFA;\n",
              "      box-shadow: 0px 1px 2px rgba(60, 64, 67, 0.3), 0px 1px 3px 1px rgba(60, 64, 67, 0.15);\n",
              "      fill: #174EA6;\n",
              "    }\n",
              "\n",
              "    [theme=dark] .colab-df-convert {\n",
              "      background-color: #3B4455;\n",
              "      fill: #D2E3FC;\n",
              "    }\n",
              "\n",
              "    [theme=dark] .colab-df-convert:hover {\n",
              "      background-color: #434B5C;\n",
              "      box-shadow: 0px 1px 3px 1px rgba(0, 0, 0, 0.15);\n",
              "      filter: drop-shadow(0px 1px 2px rgba(0, 0, 0, 0.3));\n",
              "      fill: #FFFFFF;\n",
              "    }\n",
              "  </style>\n",
              "\n",
              "      <script>\n",
              "        const buttonEl =\n",
              "          document.querySelector('#df-5cfab4bb-0451-4dda-951e-c7dd9a825e2d button.colab-df-convert');\n",
              "        buttonEl.style.display =\n",
              "          google.colab.kernel.accessAllowed ? 'block' : 'none';\n",
              "\n",
              "        async function convertToInteractive(key) {\n",
              "          const element = document.querySelector('#df-5cfab4bb-0451-4dda-951e-c7dd9a825e2d');\n",
              "          const dataTable =\n",
              "            await google.colab.kernel.invokeFunction('convertToInteractive',\n",
              "                                                     [key], {});\n",
              "          if (!dataTable) return;\n",
              "\n",
              "          const docLinkHtml = 'Like what you see? Visit the ' +\n",
              "            '<a target=\"_blank\" href=https://colab.research.google.com/notebooks/data_table.ipynb>data table notebook</a>'\n",
              "            + ' to learn more about interactive tables.';\n",
              "          element.innerHTML = '';\n",
              "          dataTable['output_type'] = 'display_data';\n",
              "          await google.colab.output.renderOutput(dataTable, element);\n",
              "          const docLink = document.createElement('div');\n",
              "          docLink.innerHTML = docLinkHtml;\n",
              "          element.appendChild(docLink);\n",
              "        }\n",
              "      </script>\n",
              "    </div>\n",
              "  </div>\n",
              "  "
            ]
          },
          "metadata": {},
          "execution_count": 5
        }
      ],
      "source": [
        "articles = pd.read_csv(\"data_for_fashion_clip/articles.csv\")\n",
        "\n",
        "# drop items that have the same description\n",
        "subset = articles.drop_duplicates(\"detail_desc\").copy()\n",
        "\n",
        "# remove items of unkown category\n",
        "subset = subset[~subset[\"product_group_name\"].isin([\"Unknown\"])]\n",
        "\n",
        "# FashionCLIP has a limit of 77 tokens, let's play it safe and drop things with more than 40 tokens\n",
        "subset = subset[subset[\"detail_desc\"].apply(lambda x : 4 < len(str(x).split()) < 40)]\n",
        "\n",
        "# We also drop products types that do not occur very frequently in this subset of data\n",
        "most_frequent_product_types = [k for k, v in dict(Counter(subset[\"product_type_name\"].tolist())).items() if v > 10]\n",
        "subset = subset[subset[\"product_type_name\"].isin(most_frequent_product_types)]\n",
        "\n",
        "# lots of data here, but we will just use only descriptions and a couple of other columns\n",
        "subset.head(3)"
      ]
    },
    {
      "cell_type": "code",
      "execution_count": 7,
      "metadata": {
        "colab": {
          "base_uri": "https://localhost:8080/",
          "height": 35
        },
        "id": "kTiCnV7Nko5L",
        "outputId": "5b0dc6a8-7d34-4fe2-a341-0077fbff10c7"
      },
      "outputs": [
        {
          "output_type": "execute_result",
          "data": {
            "text/plain": [
              "'There are 3104 elements in the dataset'"
            ],
            "application/vnd.google.colaboratory.intrinsic+json": {
              "type": "string"
            }
          },
          "metadata": {},
          "execution_count": 7
        }
      ],
      "source": [
        "subset.to_csv(\"subset_data.csv\", index=False)\n",
        "f\"There are {len(subset)} elements in the dataset\""
      ]
    },
    {
      "cell_type": "markdown",
      "metadata": {
        "id": "TcLNKhgD75pm"
      },
      "source": [
        "## Image Retrieval\n",
        "\n",
        "How do we do retrieval? \n",
        "\n",
        "We encode a search query (e.g., \"A red dress\") with FashionCLIP text encoder and retrieve the closest image vectors through a simple dot product. The greater the value of the dot product, the more similar the text and the image are.\n",
        "\n",
        "<img src=\"https://miro.medium.com/v2/resize:fit:1400/1*cnKHgLAumVyuHuK9pkqr7A.gif\"  width=\"800\">\n"
      ]
    },
    {
      "cell_type": "markdown",
      "metadata": {
        "id": "rV3e8bLpBpAS"
      },
      "source": [
        "Ok now let's get all the images and all the captions, generate embeddings and then normalize the embeddings to unit norm."
      ]
    },
    {
      "cell_type": "code",
      "execution_count": 8,
      "metadata": {
        "colab": {
          "base_uri": "https://localhost:8080/",
          "height": 52,
          "referenced_widgets": [
            "1b4b4407ed0743379fc393e7c3198f6c",
            "c291dbfb6ff54164b4c9a8f4bbe25f38",
            "6c69889c24804b6da899ca53b8ab8d29",
            "2674f5c360944bea945bd43110af7379",
            "eb74e1f2f77d4c1d918e3a5635d470f6",
            "8198ee97613640d0b05b9b42caf1f6b0",
            "6fa6f87865304d8aa331e9dae8ef9484",
            "60edcfea854a457085f3bd05c69c7192",
            "470269c9bba64486966504896e3b4320",
            "92b97581b4264e4e89562009d26cb75e",
            "3bc727d3de454f80a59d1667b2247b95"
          ]
        },
        "id": "cla9wews4eZg",
        "outputId": "9b72d3a5-deaf-42e6-86de-9988de70c831"
      },
      "outputs": [
        {
          "output_type": "stream",
          "name": "stderr",
          "text": [
            "100%|██████████| 97/97 [03:51<00:00,  2.39s/it]\n"
          ]
        },
        {
          "output_type": "display_data",
          "data": {
            "text/plain": [
              "Map:   0%|          | 0/3104 [00:00<?, ? examples/s]"
            ],
            "application/vnd.jupyter.widget-view+json": {
              "version_major": 2,
              "version_minor": 0,
              "model_id": "1b4b4407ed0743379fc393e7c3198f6c"
            }
          },
          "metadata": {}
        },
        {
          "output_type": "stream",
          "name": "stderr",
          "text": [
            "100%|██████████| 97/97 [00:07<00:00, 13.07it/s]\n"
          ]
        }
      ],
      "source": [
        "images = [\"data_for_fashion_clip/\" + str(k) + \".jpg\" for k in subset[\"article_id\"].tolist()]\n",
        "texts = subset[\"detail_desc\"].tolist()\n",
        "\n",
        "# we create image embeddings and text embeddings\n",
        "image_embeddings = fclip.encode_images(images, batch_size=32)\n",
        "text_embeddings = fclip.encode_text(texts, batch_size=32)\n",
        "\n",
        "# we normalize the embeddings to unit norm (so that we can use dot product instead of cosine similarity to do comparisons)\n",
        "image_embeddings = image_embeddings/np.linalg.norm(image_embeddings, ord=2, axis=-1, keepdims=True)\n",
        "text_embeddings = text_embeddings/np.linalg.norm(text_embeddings, ord=2, axis=-1, keepdims=True)"
      ]
    },
    {
      "cell_type": "markdown",
      "metadata": {
        "id": "ZHQWIMzJ5xCb"
      },
      "source": [
        "Let's write a quick function to see how well our retrieval works! We are going to compute **precision@5**."
      ]
    },
    {
      "cell_type": "code",
      "execution_count": 9,
      "metadata": {
        "id": "z5V_JIF81WAM",
        "outputId": "8aa25770-a014-4ef7-cb3e-f174347d764d",
        "colab": {
          "base_uri": "https://localhost:8080/"
        }
      },
      "outputs": [
        {
          "output_type": "execute_result",
          "data": {
            "text/plain": [
              "0.54"
            ]
          },
          "metadata": {},
          "execution_count": 9
        }
      ],
      "source": [
        "precision = 0\n",
        "\n",
        "# we could batch this operation to make it faster\n",
        "for index, t in enumerate(text_embeddings):\n",
        "    arr = t.dot(image_embeddings.T)\n",
        "\n",
        "    best = arr.argsort()[-5:][::-1]\n",
        "\n",
        "    if index in best:\n",
        "        precision +=1\n",
        "\n",
        "round(precision/len(text_embeddings), 2)"
      ]
    },
    {
      "cell_type": "markdown",
      "metadata": {
        "id": "e7v6WUkWDCE6"
      },
      "source": [
        "Good! **0.54** on this completely unseen dataset is honestly a pretty good result! It means that more than half of the times, the product we are looking for is in the top 5 returned items.\n",
        "\n",
        "### Building a Toy Search Engine\n",
        "\n",
        "Let's now test our toy \"product search engine\". We will embed a textual query and then rank the images we have by similarity with the query vector. \n",
        "\n"
      ]
    },
    {
      "cell_type": "code",
      "execution_count": 11,
      "metadata": {
        "id": "X5VNv1lx1rY1",
        "outputId": "77e2c4a5-35ce-44fe-afff-e8bfc7a17ddf",
        "colab": {
          "base_uri": "https://localhost:8080/",
          "height": 258,
          "referenced_widgets": [
            "7040217c2afe4374b16723cbd99737ff",
            "41a05e6b0f7e4d4fa05ac8ca669cd02d",
            "fa07f58c6b424f549efbf222a0b93c2f",
            "e47223a7b4e044f294cd5eb91266d423",
            "2836cb3ed3f245aa9f4a480696079635",
            "60a5b05f7e1e4f5fbe192dd5bc960ecc",
            "0af40446d7ec4dc68ec7555ac62bf94f",
            "854ef9c9ccde4c528cbe935c012cffa4",
            "00789698365e4937a9822aa1c23d7998",
            "fbb00e44257b410b9465f2299e69ed56",
            "28c7e85d6e9142a29a877955c2d3c992"
          ]
        }
      },
      "outputs": [
        {
          "output_type": "display_data",
          "data": {
            "text/plain": [
              "Map:   0%|          | 0/1 [00:00<?, ? examples/s]"
            ],
            "application/vnd.jupyter.widget-view+json": {
              "version_major": 2,
              "version_minor": 0,
              "model_id": "7040217c2afe4374b16723cbd99737ff"
            }
          },
          "metadata": {}
        },
        {
          "output_type": "stream",
          "name": "stderr",
          "text": [
            "1it [00:00, 19.50it/s]\n"
          ]
        },
        {
          "output_type": "execute_result",
          "data": {
            "text/plain": [
              "<PIL.Image.Image image mode=RGB size=297x224 at 0x7F22F89842E0>"
            ],
            "image/png": "[encoded data removed]"
          },
          "metadata": {},
          "execution_count": 11
        }
      ],
      "source": [
        "text_embedding = fclip.encode_text([\"a pair of pink shorts\"], 32)[0]\n",
        "\n",
        "id_of_matched_object = np.argmax(text_embedding.dot(image_embeddings.T))\n",
        "found_object = subset[\"article_id\"].iloc[id_of_matched_object].tolist()\n",
        "\n",
        "fixed_height = 224\n",
        "\n",
        "image = Image.open(f\"data_for_fashion_clip/{found_object}.jpg\")\n",
        "height_percent = (fixed_height / float(image.size[1]))\n",
        "width_size = int((float(image.size[0]) * float(height_percent)))\n",
        "image = image.resize((width_size, fixed_height), Image.NEAREST)\n",
        "\n",
        "image"
      ]
    },
    {
      "cell_type": "markdown",
      "metadata": {
        "id": "eU-krCddFFcF"
      },
      "source": [
        "Note that, if the query does not make sense - in this context - the model is not going to return anything useful."
      ]
    },
    {
      "cell_type": "code",
      "execution_count": 12,
      "metadata": {
        "id": "CFAXbE17FBdK",
        "outputId": "1b8fe592-bc51-422f-b166-02777de0ebe8",
        "colab": {
          "base_uri": "https://localhost:8080/",
          "height": 258,
          "referenced_widgets": [
            "fa32e88bb24646988f123e846b321a9b",
            "aa930e59ec7f4f5d940f94047dad08d8",
            "3a1dbfff484e4fa7bf065d99ad354130",
            "2de62ff685fb48b3a7672e5cdd6ebc75",
            "de38dd9020fc4576a0063c5136816ee2",
            "ee121a8fd23e4edfa3dcdffba72f8f90",
            "5b7cdac197a942ecbde355cc9c26fe23",
            "8ce5e1e3f3b247cc98c0da66e10c8618",
            "736b3242fa6d43fda94c6fc465549da2",
            "74ef66e9c1ba4c6dbf4f12817278decf",
            "ac164c345afb4ad59645fce4d0ae7efd"
          ]
        }
      },
      "outputs": [
        {
          "output_type": "display_data",
          "data": {
            "text/plain": [
              "Map:   0%|          | 0/1 [00:00<?, ? examples/s]"
            ],
            "application/vnd.jupyter.widget-view+json": {
              "version_major": 2,
              "version_minor": 0,
              "model_id": "fa32e88bb24646988f123e846b321a9b"
            }
          },
          "metadata": {}
        },
        {
          "output_type": "stream",
          "name": "stderr",
          "text": [
            "1it [00:00, 42.53it/s]\n"
          ]
        },
        {
          "output_type": "execute_result",
          "data": {
            "text/plain": [
              "<PIL.Image.Image image mode=RGB size=149x224 at 0x7F22FA5808E0>"
            ],
            "image/png": "[encoded data removed]"
          },
          "metadata": {},
          "execution_count": 12
        }
      ],
      "source": [
        "text_embedding = fclip.encode_text([\"a house\"], 32)[0]\n",
        "\n",
        "id_of_matched_object = np.argmax(text_embedding.dot(image_embeddings.T))\n",
        "found_object = subset[\"article_id\"].iloc[id_of_matched_object].tolist()\n",
        "\n",
        "fixed_height = 224\n",
        "\n",
        "image = Image.open(f\"data_for_fashion_clip/{found_object}.jpg\")\n",
        "height_percent = (fixed_height / float(image.size[1]))\n",
        "width_size = int((float(image.size[0]) * float(height_percent)))\n",
        "image = image.resize((width_size, fixed_height), Image.NEAREST)\n",
        "\n",
        "image"
      ]
    },
    {
      "cell_type": "markdown",
      "metadata": {
        "id": "87URDy7xh65d"
      },
      "source": [
        "# Zero Shot Classification\n",
        "\n",
        "ZeroShot classification is one of the most exciting applications of CLIP like models! We encode the image of a fashion item we want to classify with FashionCLIP’s image encoder and retrieve the closest label vectors through a dot product.\n",
        "\n",
        "<img src=\"https://miro.medium.com/v2/resize:fit:1400/1*No6ZONpQMIcfFaNMOI5oNw.gif\"  width=\"800\">\n",
        "\n"
      ]
    },
    {
      "cell_type": "code",
      "execution_count": 13,
      "metadata": {
        "id": "kZbAxKKKiBvq",
        "outputId": "f3550124-db02-43fc-aff0-875058b404d1",
        "colab": {
          "base_uri": "https://localhost:8080/"
        }
      },
      "outputs": [
        {
          "output_type": "stream",
          "name": "stdout",
          "text": [
            "These are our labels: ['Vest top' 'Hair/alice band' 'Leggings/Tights' 'T-shirt' 'Sneakers'\n",
            " 'Sunglasses' 'Cardigan' 'Gloves' 'Underwear Tights' 'Hoodie' 'Other shoe'\n",
            " 'Shorts' 'Jumpsuit/Playsuit' 'Dress' 'Trousers' 'Belt' 'Socks'\n",
            " 'Underwear bottom' 'Bodysuit' 'Hat/beanie' 'Scarf' 'Jacket'\n",
            " 'Other accessories' 'Bra' 'Swimwear bottom' 'Blazer' 'Top' 'Polo shirt'\n",
            " 'Sweater' 'Necklace' 'Pyjama set' 'Blouse' 'Bag' 'Shirt' 'Coat' 'Boots'\n",
            " 'Skirt' 'Garment Set' 'Bikini top' 'Sandals' 'Dungarees' 'Earring'\n",
            " 'Cap/peaked' 'Ballerinas' 'Swimsuit' 'Hat/brim']\n"
          ]
        }
      ],
      "source": [
        "labels = subset[\"product_type_name\"].unique()\n",
        "print(f\"These are our labels: {labels}\")"
      ]
    },
    {
      "cell_type": "code",
      "execution_count": 14,
      "metadata": {
        "id": "sGdYbWx9p3oB",
        "outputId": "79c689a3-ca46-445e-976b-8c5ae6836799",
        "colab": {
          "base_uri": "https://localhost:8080/",
          "height": 34,
          "referenced_widgets": [
            "2e429ff5c0db45cdb8b85c4743d793d6",
            "c498d8c1b56e4e99994cab496413c551",
            "8d52fe2787924b7087674534a4816c73",
            "573a46e0f8e847f4a617c69a662ac0c9",
            "885feafcb32c40dab9b431002f916c02",
            "c11e78821f634e138b968f0621908918",
            "1df5c16760224325af30fa8544a558ba",
            "3957f1880fe8428eb54fe6693eba5553",
            "2ec6e6a0ec6f40f7aadd988e2064b1dd",
            "9b6436842764464a9535b7762b4d5bcb",
            "4913a8a0f1e0439ab82c1c6575814d0b"
          ]
        }
      },
      "outputs": [
        {
          "output_type": "display_data",
          "data": {
            "text/plain": [
              "Map:   0%|          | 0/46 [00:00<?, ? examples/s]"
            ],
            "application/vnd.jupyter.widget-view+json": {
              "version_major": 2,
              "version_minor": 0,
              "model_id": "2e429ff5c0db45cdb8b85c4743d793d6"
            }
          },
          "metadata": {}
        },
        {
          "output_type": "stream",
          "name": "stderr",
          "text": [
            "2it [00:00, 11.92it/s]                       \n"
          ]
        }
      ],
      "source": [
        "labels_prompt = [f\"a photo of a {k}\" for k in labels]\n",
        "\n",
        "label_embeddings = fclip.encode_text(labels_prompt, batch_size=32)\n",
        "label_embeddings = label_embeddings/np.linalg.norm(label_embeddings, ord=2, axis=-1, keepdims=True)"
      ]
    },
    {
      "cell_type": "code",
      "execution_count": 15,
      "metadata": {
        "id": "4SFckqe7msFn"
      },
      "outputs": [],
      "source": [
        "# let's compute the class distribution for all images\n",
        "predicted_classes_distribution = label_embeddings.dot(image_embeddings.T)"
      ]
    },
    {
      "cell_type": "code",
      "execution_count": 16,
      "metadata": {
        "id": "WjsDedBFm1VQ"
      },
      "outputs": [],
      "source": [
        "# let's take the best label (the most similar to the image)\n",
        "predicted = [labels[k] for k in np.argmax(predicted_classes_distribution, axis=0)]"
      ]
    },
    {
      "cell_type": "code",
      "execution_count": 17,
      "metadata": {
        "id": "B2PulVuMnB7J",
        "outputId": "49257861-596f-4045-8665-90dad2f60b40",
        "colab": {
          "base_uri": "https://localhost:8080/"
        }
      },
      "outputs": [
        {
          "output_type": "stream",
          "name": "stdout",
          "text": [
            "                   precision    recall  f1-score   support\n",
            "\n",
            "              Bag       0.97      0.88      0.92        40\n",
            "       Ballerinas       0.67      0.15      0.25        13\n",
            "             Belt       0.80      0.92      0.86        13\n",
            "       Bikini top       0.68      0.73      0.70        37\n",
            "           Blazer       0.94      0.84      0.89        38\n",
            "           Blouse       0.47      0.79      0.59       135\n",
            "         Bodysuit       0.53      0.64      0.58        25\n",
            "            Boots       0.91      0.65      0.75        31\n",
            "              Bra       0.90      0.77      0.83        60\n",
            "       Cap/peaked       0.95      0.86      0.90        21\n",
            "         Cardigan       0.58      0.86      0.69        49\n",
            "             Coat       0.17      0.92      0.29        12\n",
            "            Dress       0.92      0.77      0.84       293\n",
            "        Dungarees       0.32      0.67      0.43        12\n",
            "          Earring       0.98      0.84      0.90        55\n",
            "      Garment Set       0.71      0.18      0.29        28\n",
            "           Gloves       1.00      0.93      0.97        15\n",
            "  Hair/alice band       0.83      0.79      0.81        24\n",
            "       Hat/beanie       0.94      0.80      0.87        41\n",
            "         Hat/brim       0.76      0.87      0.81        15\n",
            "           Hoodie       0.68      0.93      0.79        71\n",
            "           Jacket       0.92      0.54      0.68       101\n",
            "Jumpsuit/Playsuit       0.33      0.30      0.32        33\n",
            "  Leggings/Tights       0.71      0.54      0.61        63\n",
            "         Necklace       0.79      0.90      0.84        21\n",
            "Other accessories       0.39      0.32      0.35        34\n",
            "       Other shoe       0.31      0.81      0.45        16\n",
            "       Polo shirt       0.67      0.92      0.77        13\n",
            "       Pyjama set       0.42      0.95      0.58        37\n",
            "          Sandals       0.86      1.00      0.92        24\n",
            "            Scarf       0.67      0.91      0.77        33\n",
            "            Shirt       0.38      0.74      0.50        72\n",
            "           Shorts       0.75      0.87      0.81       138\n",
            "            Skirt       0.91      0.90      0.90       111\n",
            "         Sneakers       0.95      0.79      0.86        66\n",
            "            Socks       0.89      0.98      0.93        41\n",
            "       Sunglasses       0.92      1.00      0.96        11\n",
            "          Sweater       0.84      0.81      0.82       313\n",
            "         Swimsuit       0.47      0.79      0.59        19\n",
            "  Swimwear bottom       0.51      0.63      0.56        38\n",
            "          T-shirt       0.84      0.60      0.70       226\n",
            "              Top       0.00      0.00      0.00       141\n",
            "         Trousers       0.91      0.85      0.88       340\n",
            " Underwear Tights       0.43      0.55      0.48        11\n",
            " Underwear bottom       0.95      0.68      0.79        81\n",
            "         Vest top       0.69      0.77      0.73        93\n",
            "\n",
            "         accuracy                           0.73      3104\n",
            "        macro avg       0.70      0.74      0.69      3104\n",
            "     weighted avg       0.75      0.73      0.73      3104\n",
            "\n"
          ]
        }
      ],
      "source": [
        "print(classification_report(subset[\"product_type_name\"], predicted))"
      ]
    },
    {
      "cell_type": "markdown",
      "metadata": {
        "id": "iE4Kgt_DqG4A"
      },
      "source": [
        "Results look good! **0.69** in Macro F1 on many classes **without the need of training anything**!!\n",
        "\n",
        "There are a couple of classes in which we don't do well, for example **Top** and it might be because in English it's an ambigous term.\n",
        "\n",
        "Moreover, I haven't actually searched for a prompt that works well and some of the classes contain a \"\\\" in the name that might complicate the prediction. \n",
        "\n",
        "Anyway, considering that we did this without studying the data much, we got a pretty good performance!"
      ]
    },
    {
      "cell_type": "markdown",
      "metadata": {
        "id": "O4r6m49W1WTn"
      },
      "source": [
        "# Feature Extraction for Supervised Learning\n",
        "\n",
        "Finally, let's do some classification with the image features we have extracted before. We will use the features to train a linear classifier and see how it performs!\n",
        "\n"
      ]
    },
    {
      "cell_type": "code",
      "execution_count": 18,
      "metadata": {
        "id": "qYX4S4zX8Q_D"
      },
      "outputs": [],
      "source": [
        "classes = subset[\"product_group_name\"].tolist()\n",
        "X_train, X_test, y_train, y_test = train_test_split(image_embeddings, classes, test_size=0.20, random_state=32, stratify=classes)"
      ]
    },
    {
      "cell_type": "code",
      "execution_count": 19,
      "metadata": {
        "id": "16vqd6Gf8y48"
      },
      "outputs": [],
      "source": [
        "clf = LogisticRegression(random_state=0, class_weight=\"balanced\").fit(X_train, y_train)"
      ]
    },
    {
      "cell_type": "code",
      "execution_count": 20,
      "metadata": {
        "id": "hVtH8WS7851f",
        "outputId": "dcdf5260-7c85-4580-f408-7f474dec65a1",
        "colab": {
          "base_uri": "https://localhost:8080/"
        }
      },
      "outputs": [
        {
          "output_type": "stream",
          "name": "stdout",
          "text": [
            "                    precision    recall  f1-score   support\n",
            "\n",
            "       Accessories       0.86      1.00      0.92        65\n",
            " Garment Full body       0.69      0.95      0.80        73\n",
            "Garment Lower body       0.98      0.94      0.96       131\n",
            "Garment Upper body       1.00      0.85      0.92       258\n",
            "         Nightwear       0.58      1.00      0.74         7\n",
            "             Shoes       1.00      0.90      0.95        30\n",
            "    Socks & Tights       0.75      0.90      0.82        10\n",
            "          Swimwear       0.65      0.68      0.67        19\n",
            "         Underwear       0.96      0.96      0.96        28\n",
            "\n",
            "          accuracy                           0.90       621\n",
            "         macro avg       0.83      0.91      0.86       621\n",
            "      weighted avg       0.92      0.90      0.91       621\n",
            "\n"
          ]
        }
      ],
      "source": [
        "print(classification_report(y_test, clf.predict(X_test)))"
      ]
    },
    {
      "cell_type": "markdown",
      "metadata": {
        "id": "0u1z1vu6q6t4"
      },
      "source": [
        "We slightly under perform on Nightwear, but probably because we don't have much data. But the classifier works really well!\n",
        "\n",
        "\n",
        "Note: If you do this with **product_type_name** you are going to get a Macro F1 0.86 (that is better than the zero-shot one!)."
      ]
    },
    {
      "cell_type": "markdown",
      "metadata": {
        "id": "cOrcmZEB_ffg"
      },
      "source": [
        "### Visualizing Image Embeddings in the Latent Space\n",
        "\n",
        "To address our use cases, we assume FashionCLIP embeds images in the latent space following an underlying semantics. Let's use a dimensionality reduction algorithm to visualize that.\n",
        "\n",
        "UMAP is a well-known dimension reduction algorithm that works out-of-the-box on multidimensional data. Through UMAP, we can remap our image embeddings into a 2D space and plot it as a scatterplot."
      ]
    },
    {
      "cell_type": "code",
      "source": [
        "!pip uninstall umap\n",
        "!pip install umap-learn"
      ],
      "metadata": {
        "id": "vWpAGQKkvpF0",
        "outputId": "675678f0-3e61-496d-e32d-4669bdd284a4",
        "colab": {
          "base_uri": "https://localhost:8080/"
        }
      },
      "execution_count": 22,
      "outputs": [
        {
          "output_type": "stream",
          "name": "stdout",
          "text": [
            "\u001b[33mWARNING: Skipping umap as it is not installed.\u001b[0m\u001b[33m\n",
            "\u001b[0mLooking in indexes: https://pypi.org/simple, https://us-python.pkg.dev/colab-wheels/public/simple/\n",
            "Collecting umap-learn\n",
            "  Downloading umap-learn-0.5.3.tar.gz (88 kB)\n",
            "\u001b[2K     \u001b[90m━━━━━━━━━━━━━━━━━━━━━━━━━━━━━━━━━━━━━━━━\u001b[0m \u001b[32m88.2/88.2 kB\u001b[0m \u001b[31m3.6 MB/s\u001b[0m eta \u001b[36m0:00:00\u001b[0m\n",
            "\u001b[?25h  Preparing metadata (setup.py) ... \u001b[?25l\u001b[?25hdone\n",
            "Requirement already satisfied: numpy>=1.17 in /usr/local/lib/python3.9/dist-packages (from umap-learn) (1.22.4)\n",
            "Requirement already satisfied: scikit-learn>=0.22 in /usr/local/lib/python3.9/dist-packages (from umap-learn) (1.2.2)\n",
            "Requirement already satisfied: scipy>=1.0 in /usr/local/lib/python3.9/dist-packages (from umap-learn) (1.10.1)\n",
            "Requirement already satisfied: numba>=0.49 in /usr/local/lib/python3.9/dist-packages (from umap-learn) (0.56.4)\n",
            "Collecting pynndescent>=0.5\n",
            "  Downloading pynndescent-0.5.10.tar.gz (1.1 MB)\n",
            "\u001b[2K     \u001b[90m━━━━━━━━━━━━━━━━━━━━━━━━━━━━━━━━━━━━━━━━\u001b[0m \u001b[32m1.1/1.1 MB\u001b[0m \u001b[31m23.7 MB/s\u001b[0m eta \u001b[36m0:00:00\u001b[0m\n",
            "\u001b[?25h  Preparing metadata (setup.py) ... \u001b[?25l\u001b[?25hdone\n",
            "Requirement already satisfied: tqdm in /usr/local/lib/python3.9/dist-packages (from umap-learn) (4.65.0)\n",
            "Requirement already satisfied: llvmlite<0.40,>=0.39.0dev0 in /usr/local/lib/python3.9/dist-packages (from numba>=0.49->umap-learn) (0.39.1)\n",
            "Requirement already satisfied: setuptools in /usr/local/lib/python3.9/dist-packages (from numba>=0.49->umap-learn) (67.6.1)\n",
            "Requirement already satisfied: joblib>=0.11 in /usr/local/lib/python3.9/dist-packages (from pynndescent>=0.5->umap-learn) (1.2.0)\n",
            "Requirement already satisfied: threadpoolctl>=2.0.0 in /usr/local/lib/python3.9/dist-packages (from scikit-learn>=0.22->umap-learn) (3.1.0)\n",
            "Building wheels for collected packages: umap-learn, pynndescent\n",
            "  Building wheel for umap-learn (setup.py) ... \u001b[?25l\u001b[?25hdone\n",
            "  Created wheel for umap-learn: filename=umap_learn-0.5.3-py3-none-any.whl size=82830 sha256=0c7b90effce25cc8d7ace58c6a18a8b593c6f77db4347fc20991010f65048110\n",
            "  Stored in directory: /root/.cache/pip/wheels/f4/3e/1c/596d0a463d17475af648688443fa4846fef624d1390339e7e9\n",
            "  Building wheel for pynndescent (setup.py) ... \u001b[?25l\u001b[?25hdone\n",
            "  Created wheel for pynndescent: filename=pynndescent-0.5.10-py3-none-any.whl size=55640 sha256=c836ef4612e92fbb5184d45345bd1c46e49c52b4befdfe0b40fa68c60f03530b\n",
            "  Stored in directory: /root/.cache/pip/wheels/12/f9/4d/ec5ad1c823c710fcc4473669fdcffc8891f4bc398c841af22e\n",
            "Successfully built umap-learn pynndescent\n",
            "Installing collected packages: pynndescent, umap-learn\n",
            "Successfully installed pynndescent-0.5.10 umap-learn-0.5.3\n"
          ]
        }
      ]
    },
    {
      "cell_type": "code",
      "source": [
        "import umap.umap_ as umap"
      ],
      "metadata": {
        "id": "_TrLRyAKvwAj"
      },
      "execution_count": 23,
      "outputs": []
    },
    {
      "cell_type": "code",
      "execution_count": 24,
      "metadata": {
        "id": "ncrbsEa6_kyi"
      },
      "outputs": [],
      "source": [
        "# import umap\n",
        "# import umap.umap_ as umap\n",
        "\n",
        "# import umap.plot\n",
        "\n",
        "reducer = umap.UMAP()"
      ]
    },
    {
      "cell_type": "code",
      "execution_count": 25,
      "metadata": {
        "id": "0si3bC8d_tUS"
      },
      "outputs": [],
      "source": [
        "umap_embeddings = reducer.fit_transform(image_embeddings)"
      ]
    },
    {
      "cell_type": "code",
      "execution_count": 26,
      "metadata": {
        "colab": {
          "base_uri": "https://localhost:8080/"
        },
        "id": "en7yaftDAYT8",
        "outputId": "c8bc8dde-33e5-4a34-c3a7-6d1465296a49"
      },
      "outputs": [
        {
          "output_type": "execute_result",
          "data": {
            "text/plain": [
              "(3104, 2)"
            ]
          },
          "metadata": {},
          "execution_count": 26
        }
      ],
      "source": [
        "# shape: (number of images, 2)\n",
        "umap_embeddings.shape "
      ]
    },
    {
      "cell_type": "code",
      "source": [
        "!pip install umap-learn[plot]"
      ],
      "metadata": {
        "id": "Ke3dVuiSw4RT",
        "outputId": "ea51ccc0-fd2a-49ba-fb14-0f3d4a6528c6",
        "colab": {
          "base_uri": "https://localhost:8080/"
        }
      },
      "execution_count": 29,
      "outputs": [
        {
          "output_type": "stream",
          "name": "stdout",
          "text": [
            "Looking in indexes: https://pypi.org/simple, https://us-python.pkg.dev/colab-wheels/public/simple/\n",
            "Requirement already satisfied: umap-learn[plot] in /usr/local/lib/python3.9/dist-packages (0.5.3)\n",
            "Requirement already satisfied: pynndescent>=0.5 in /usr/local/lib/python3.9/dist-packages (from umap-learn[plot]) (0.5.10)\n",
            "Requirement already satisfied: numba>=0.49 in /usr/local/lib/python3.9/dist-packages (from umap-learn[plot]) (0.56.4)\n",
            "Requirement already satisfied: numpy>=1.17 in /usr/local/lib/python3.9/dist-packages (from umap-learn[plot]) (1.22.4)\n",
            "Requirement already satisfied: scipy>=1.0 in /usr/local/lib/python3.9/dist-packages (from umap-learn[plot]) (1.10.1)\n",
            "Requirement already satisfied: scikit-learn>=0.22 in /usr/local/lib/python3.9/dist-packages (from umap-learn[plot]) (1.2.2)\n",
            "Requirement already satisfied: tqdm in /usr/local/lib/python3.9/dist-packages (from umap-learn[plot]) (4.65.0)\n",
            "Collecting datashader\n",
            "  Downloading datashader-0.14.4-py2.py3-none-any.whl (18.2 MB)\n",
            "\u001b[2K     \u001b[90m━━━━━━━━━━━━━━━━━━━━━━━━━━━━━━━━━━━━━━━━\u001b[0m \u001b[32m18.2/18.2 MB\u001b[0m \u001b[31m19.9 MB/s\u001b[0m eta \u001b[36m0:00:00\u001b[0m\n",
            "\u001b[?25hRequirement already satisfied: pandas in /usr/local/lib/python3.9/dist-packages (from umap-learn[plot]) (1.3.5)\n",
            "Requirement already satisfied: colorcet in /usr/local/lib/python3.9/dist-packages (from umap-learn[plot]) (3.0.1)\n",
            "Requirement already satisfied: holoviews in /usr/local/lib/python3.9/dist-packages (from umap-learn[plot]) (1.15.4)\n",
            "Requirement already satisfied: matplotlib in /usr/local/lib/python3.9/dist-packages (from umap-learn[plot]) (3.5.1)\n",
            "Requirement already satisfied: bokeh in /usr/local/lib/python3.9/dist-packages (from umap-learn[plot]) (2.4.3)\n",
            "Requirement already satisfied: scikit-image in /usr/local/lib/python3.9/dist-packages (from umap-learn[plot]) (0.19.3)\n",
            "Requirement already satisfied: seaborn in /usr/local/lib/python3.9/dist-packages (from umap-learn[plot]) (0.12.2)\n",
            "Requirement already satisfied: setuptools in /usr/local/lib/python3.9/dist-packages (from numba>=0.49->umap-learn[plot]) (67.6.1)\n",
            "Requirement already satisfied: llvmlite<0.40,>=0.39.0dev0 in /usr/local/lib/python3.9/dist-packages (from numba>=0.49->umap-learn[plot]) (0.39.1)\n",
            "Requirement already satisfied: joblib>=0.11 in /usr/local/lib/python3.9/dist-packages (from pynndescent>=0.5->umap-learn[plot]) (1.2.0)\n",
            "Requirement already satisfied: threadpoolctl>=2.0.0 in /usr/local/lib/python3.9/dist-packages (from scikit-learn>=0.22->umap-learn[plot]) (3.1.0)\n",
            "Requirement already satisfied: PyYAML>=3.10 in /usr/local/lib/python3.9/dist-packages (from bokeh->umap-learn[plot]) (6.0)\n",
            "Requirement already satisfied: pillow>=7.1.0 in /usr/local/lib/python3.9/dist-packages (from bokeh->umap-learn[plot]) (8.4.0)\n",
            "Requirement already satisfied: Jinja2>=2.9 in /usr/local/lib/python3.9/dist-packages (from bokeh->umap-learn[plot]) (3.1.2)\n",
            "Requirement already satisfied: packaging>=16.8 in /usr/local/lib/python3.9/dist-packages (from bokeh->umap-learn[plot]) (23.1)\n",
            "Requirement already satisfied: typing-extensions>=3.10.0 in /usr/local/lib/python3.9/dist-packages (from bokeh->umap-learn[plot]) (4.5.0)\n",
            "Requirement already satisfied: tornado>=5.1 in /usr/local/lib/python3.9/dist-packages (from bokeh->umap-learn[plot]) (6.2)\n",
            "Requirement already satisfied: pyct>=0.4.4 in /usr/local/lib/python3.9/dist-packages (from colorcet->umap-learn[plot]) (0.5.0)\n",
            "Requirement already satisfied: dask in /usr/local/lib/python3.9/dist-packages (from datashader->umap-learn[plot]) (2022.12.1)\n",
            "Requirement already satisfied: requests in /usr/local/lib/python3.9/dist-packages (from datashader->umap-learn[plot]) (2.27.1)\n",
            "Requirement already satisfied: xarray in /usr/local/lib/python3.9/dist-packages (from datashader->umap-learn[plot]) (2022.12.0)\n",
            "Collecting datashape\n",
            "  Downloading datashape-0.5.2.tar.gz (76 kB)\n",
            "\u001b[2K     \u001b[90m━━━━━━━━━━━━━━━━━━━━━━━━━━━━━━━━━━━━━━━━\u001b[0m \u001b[32m76.5/76.5 kB\u001b[0m \u001b[31m8.7 MB/s\u001b[0m eta \u001b[36m0:00:00\u001b[0m\n",
            "\u001b[?25h  Preparing metadata (setup.py) ... \u001b[?25l\u001b[?25hdone\n",
            "Requirement already satisfied: param in /usr/local/lib/python3.9/dist-packages (from datashader->umap-learn[plot]) (1.13.0)\n",
            "Requirement already satisfied: toolz in /usr/local/lib/python3.9/dist-packages (from datashader->umap-learn[plot]) (0.12.0)\n",
            "Requirement already satisfied: pyviz-comms>=0.7.4 in /usr/local/lib/python3.9/dist-packages (from holoviews->umap-learn[plot]) (2.2.1)\n",
            "Requirement already satisfied: panel>=0.13.1 in /usr/local/lib/python3.9/dist-packages (from holoviews->umap-learn[plot]) (0.14.4)\n",
            "Requirement already satisfied: python-dateutil>=2.7.3 in /usr/local/lib/python3.9/dist-packages (from pandas->umap-learn[plot]) (2.8.2)\n",
            "Requirement already satisfied: pytz>=2017.3 in /usr/local/lib/python3.9/dist-packages (from pandas->umap-learn[plot]) (2022.7.1)\n",
            "Requirement already satisfied: fonttools>=4.22.0 in /usr/local/lib/python3.9/dist-packages (from matplotlib->umap-learn[plot]) (4.39.3)\n",
            "Requirement already satisfied: pyparsing>=2.2.1 in /usr/local/lib/python3.9/dist-packages (from matplotlib->umap-learn[plot]) (3.0.9)\n",
            "Requirement already satisfied: kiwisolver>=1.0.1 in /usr/local/lib/python3.9/dist-packages (from matplotlib->umap-learn[plot]) (1.4.4)\n",
            "Requirement already satisfied: cycler>=0.10 in /usr/local/lib/python3.9/dist-packages (from matplotlib->umap-learn[plot]) (0.11.0)\n",
            "Requirement already satisfied: tifffile>=2019.7.26 in /usr/local/lib/python3.9/dist-packages (from scikit-image->umap-learn[plot]) (2023.4.12)\n",
            "Requirement already satisfied: imageio>=2.4.1 in /usr/local/lib/python3.9/dist-packages (from scikit-image->umap-learn[plot]) (2.25.1)\n",
            "Requirement already satisfied: PyWavelets>=1.1.1 in /usr/local/lib/python3.9/dist-packages (from scikit-image->umap-learn[plot]) (1.4.1)\n",
            "Requirement already satisfied: networkx>=2.2 in /usr/local/lib/python3.9/dist-packages (from scikit-image->umap-learn[plot]) (3.1)\n",
            "Requirement already satisfied: MarkupSafe>=2.0 in /usr/local/lib/python3.9/dist-packages (from Jinja2>=2.9->bokeh->umap-learn[plot]) (2.1.2)\n",
            "Requirement already satisfied: bleach in /usr/local/lib/python3.9/dist-packages (from panel>=0.13.1->holoviews->umap-learn[plot]) (6.0.0)\n",
            "Requirement already satisfied: markdown in /usr/local/lib/python3.9/dist-packages (from panel>=0.13.1->holoviews->umap-learn[plot]) (3.4.3)\n",
            "Requirement already satisfied: six>=1.5 in /usr/local/lib/python3.9/dist-packages (from python-dateutil>=2.7.3->pandas->umap-learn[plot]) (1.16.0)\n",
            "Requirement already satisfied: click>=7.0 in /usr/local/lib/python3.9/dist-packages (from dask->datashader->umap-learn[plot]) (8.0.4)\n",
            "Requirement already satisfied: partd>=0.3.10 in /usr/local/lib/python3.9/dist-packages (from dask->datashader->umap-learn[plot]) (1.4.0)\n",
            "Requirement already satisfied: fsspec>=0.6.0 in /usr/local/lib/python3.9/dist-packages (from dask->datashader->umap-learn[plot]) (2023.4.0)\n",
            "Requirement already satisfied: cloudpickle>=1.1.1 in /usr/local/lib/python3.9/dist-packages (from dask->datashader->umap-learn[plot]) (2.2.1)\n",
            "Requirement already satisfied: multipledispatch>=0.4.7 in /usr/local/lib/python3.9/dist-packages (from datashape->datashader->umap-learn[plot]) (0.6.0)\n",
            "Requirement already satisfied: urllib3<1.27,>=1.21.1 in /usr/local/lib/python3.9/dist-packages (from requests->datashader->umap-learn[plot]) (1.25.11)\n",
            "Requirement already satisfied: certifi>=2017.4.17 in /usr/local/lib/python3.9/dist-packages (from requests->datashader->umap-learn[plot]) (2022.12.7)\n",
            "Requirement already satisfied: idna<4,>=2.5 in /usr/local/lib/python3.9/dist-packages (from requests->datashader->umap-learn[plot]) (3.4)\n",
            "Requirement already satisfied: charset-normalizer~=2.0.0 in /usr/local/lib/python3.9/dist-packages (from requests->datashader->umap-learn[plot]) (2.0.12)\n",
            "Requirement already satisfied: locket in /usr/local/lib/python3.9/dist-packages (from partd>=0.3.10->dask->datashader->umap-learn[plot]) (1.0.0)\n",
            "Requirement already satisfied: webencodings in /usr/local/lib/python3.9/dist-packages (from bleach->panel>=0.13.1->holoviews->umap-learn[plot]) (0.5.1)\n",
            "Requirement already satisfied: importlib-metadata>=4.4 in /usr/local/lib/python3.9/dist-packages (from markdown->panel>=0.13.1->holoviews->umap-learn[plot]) (6.4.1)\n",
            "Requirement already satisfied: zipp>=0.5 in /usr/local/lib/python3.9/dist-packages (from importlib-metadata>=4.4->markdown->panel>=0.13.1->holoviews->umap-learn[plot]) (3.15.0)\n",
            "Building wheels for collected packages: datashape\n",
            "  Building wheel for datashape (setup.py) ... \u001b[?25l\u001b[?25hdone\n",
            "  Created wheel for datashape: filename=datashape-0.5.2-py3-none-any.whl size=59436 sha256=db32e6616f48886c0f51c15c860bffc8339081cf44cd426960c700d765eb883a\n",
            "  Stored in directory: /root/.cache/pip/wheels/42/ef/d7/781cf80d4146d76b3d2ed2510113d78c2643c842cc6c22918d\n",
            "Successfully built datashape\n",
            "Installing collected packages: datashape, datashader\n",
            "Successfully installed datashader-0.14.4 datashape-0.5.2\n"
          ]
        }
      ]
    },
    {
      "cell_type": "code",
      "source": [
        "import umap.plot"
      ],
      "metadata": {
        "id": "xRDbgSybwtid"
      },
      "execution_count": 30,
      "outputs": []
    },
    {
      "cell_type": "code",
      "execution_count": 31,
      "metadata": {
        "colab": {
          "base_uri": "https://localhost:8080/",
          "height": 670
        },
        "id": "CytCtBtD__Zj",
        "outputId": "1a14c71e-bb19-4dd0-bb4f-6d9c22cdd1d1"
      },
      "outputs": [
        {
          "output_type": "execute_result",
          "data": {
            "text/plain": [
              "<Axes: >"
            ]
          },
          "metadata": {},
          "execution_count": 31
        },
        {
          "output_type": "display_data",
          "data": {
            "text/plain": [
              "<Figure size 800x800 with 1 Axes>"
            ],
            "image/png": "[encoded data removed]"
          },
          "metadata": {}
        }
      ],
      "source": [
        "umap.plot.points(reducer, labels=np.array(classes))"
      ]
    },
    {
      "cell_type": "markdown",
      "metadata": {
        "id": "3D7Y7VkDIfw4"
      },
      "source": [
        "UMAP reduction highlights interesting things:\n",
        "- distinct fashion categories cluster in distinct regions of the space;\n",
        "- shoes, accessories, socks & tights are well separated from garnments images."
      ]
    }
  ],
  "metadata": {
    "accelerator": "GPU",
    "colab": {
      "provenance": [],
      "include_colab_link": true
    },
    "gpuClass": "standard",
    "kernelspec": {
      "display_name": "Python 3",
      "name": "python3"
    },
    "language_info": {
      "name": "python"
    },
    "widgets": {
      "application/vnd.jupyter.widget-state+json": {
        "1b4b4407ed0743379fc393e7c3198f6c": {
          "model_module": "@jupyter-widgets/controls",
          "model_name": "HBoxModel",
          "model_module_version": "1.5.0",
          "state": {
            "_dom_classes": [],
            "_model_module": "@jupyter-widgets/controls",
            "_model_module_version": "1.5.0",
            "_model_name": "HBoxModel",
            "_view_count": null,
            "_view_module": "@jupyter-widgets/controls",
            "_view_module_version": "1.5.0",
            "_view_name": "HBoxView",
            "box_style": "",
            "children": [
              "IPY_MODEL_c291dbfb6ff54164b4c9a8f4bbe25f38",
              "IPY_MODEL_6c69889c24804b6da899ca53b8ab8d29",
              "IPY_MODEL_2674f5c360944bea945bd43110af7379"
            ],
            "layout": "IPY_MODEL_eb74e1f2f77d4c1d918e3a5635d470f6"
          }
        },
        "c291dbfb6ff54164b4c9a8f4bbe25f38": {
          "model_module": "@jupyter-widgets/controls",
          "model_name": "HTMLModel",
          "model_module_version": "1.5.0",
          "state": {
            "_dom_classes": [],
            "_model_module": "@jupyter-widgets/controls",
            "_model_module_version": "1.5.0",
            "_model_name": "HTMLModel",
            "_view_count": null,
            "_view_module": "@jupyter-widgets/controls",
            "_view_module_version": "1.5.0",
            "_view_name": "HTMLView",
            "description": "",
            "description_tooltip": null,
            "layout": "IPY_MODEL_8198ee97613640d0b05b9b42caf1f6b0",
            "placeholder": "​",
            "style": "IPY_MODEL_6fa6f87865304d8aa331e9dae8ef9484",
            "value": "Map:  97%"
          }
        },
        "6c69889c24804b6da899ca53b8ab8d29": {
          "model_module": "@jupyter-widgets/controls",
          "model_name": "FloatProgressModel",
          "model_module_version": "1.5.0",
          "state": {
            "_dom_classes": [],
            "_model_module": "@jupyter-widgets/controls",
            "_model_module_version": "1.5.0",
            "_model_name": "FloatProgressModel",
            "_view_count": null,
            "_view_module": "@jupyter-widgets/controls",
            "_view_module_version": "1.5.0",
            "_view_name": "ProgressView",
            "bar_style": "",
            "description": "",
            "description_tooltip": null,
            "layout": "IPY_MODEL_60edcfea854a457085f3bd05c69c7192",
            "max": 3104,
            "min": 0,
            "orientation": "horizontal",
            "style": "IPY_MODEL_470269c9bba64486966504896e3b4320",
            "value": 3104
          }
        },
        "2674f5c360944bea945bd43110af7379": {
          "model_module": "@jupyter-widgets/controls",
          "model_name": "HTMLModel",
          "model_module_version": "1.5.0",
          "state": {
            "_dom_classes": [],
            "_model_module": "@jupyter-widgets/controls",
            "_model_module_version": "1.5.0",
            "_model_name": "HTMLModel",
            "_view_count": null,
            "_view_module": "@jupyter-widgets/controls",
            "_view_module_version": "1.5.0",
            "_view_name": "HTMLView",
            "description": "",
            "description_tooltip": null,
            "layout": "IPY_MODEL_92b97581b4264e4e89562009d26cb75e",
            "placeholder": "​",
            "style": "IPY_MODEL_3bc727d3de454f80a59d1667b2247b95",
            "value": " 3000/3104 [00:00&lt;00:00, 3733.61 examples/s]"
          }
        },
        "eb74e1f2f77d4c1d918e3a5635d470f6": {
          "model_module": "@jupyter-widgets/base",
          "model_name": "LayoutModel",
          "model_module_version": "1.2.0",
          "state": {
            "_model_module": "@jupyter-widgets/base",
            "_model_module_version": "1.2.0",
            "_model_name": "LayoutModel",
            "_view_count": null,
            "_view_module": "@jupyter-widgets/base",
            "_view_module_version": "1.2.0",
            "_view_name": "LayoutView",
            "align_content": null,
            "align_items": null,
            "align_self": null,
            "border": null,
            "bottom": null,
            "display": null,
            "flex": null,
            "flex_flow": null,
            "grid_area": null,
            "grid_auto_columns": null,
            "grid_auto_flow": null,
            "grid_auto_rows": null,
            "grid_column": null,
            "grid_gap": null,
            "grid_row": null,
            "grid_template_areas": null,
            "grid_template_columns": null,
            "grid_template_rows": null,
            "height": null,
            "justify_content": null,
            "justify_items": null,
            "left": null,
            "margin": null,
            "max_height": null,
            "max_width": null,
            "min_height": null,
            "min_width": null,
            "object_fit": null,
            "object_position": null,
            "order": null,
            "overflow": null,
            "overflow_x": null,
            "overflow_y": null,
            "padding": null,
            "right": null,
            "top": null,
            "visibility": "hidden",
            "width": null
          }
        },
        "8198ee97613640d0b05b9b42caf1f6b0": {
          "model_module": "@jupyter-widgets/base",
          "model_name": "LayoutModel",
          "model_module_version": "1.2.0",
          "state": {
            "_model_module": "@jupyter-widgets/base",
            "_model_module_version": "1.2.0",
            "_model_name": "LayoutModel",
            "_view_count": null,
            "_view_module": "@jupyter-widgets/base",
            "_view_module_version": "1.2.0",
            "_view_name": "LayoutView",
            "align_content": null,
            "align_items": null,
            "align_self": null,
            "border": null,
            "bottom": null,
            "display": null,
            "flex": null,
            "flex_flow": null,
            "grid_area": null,
            "grid_auto_columns": null,
            "grid_auto_flow": null,
            "grid_auto_rows": null,
            "grid_column": null,
            "grid_gap": null,
            "grid_row": null,
            "grid_template_areas": null,
            "grid_template_columns": null,
            "grid_template_rows": null,
            "height": null,
            "justify_content": null,
            "justify_items": null,
            "left": null,
            "margin": null,
            "max_height": null,
            "max_width": null,
            "min_height": null,
            "min_width": null,
            "object_fit": null,
            "object_position": null,
            "order": null,
            "overflow": null,
            "overflow_x": null,
            "overflow_y": null,
            "padding": null,
            "right": null,
            "top": null,
            "visibility": null,
            "width": null
          }
        },
        "6fa6f87865304d8aa331e9dae8ef9484": {
          "model_module": "@jupyter-widgets/controls",
          "model_name": "DescriptionStyleModel",
          "model_module_version": "1.5.0",
          "state": {
            "_model_module": "@jupyter-widgets/controls",
            "_model_module_version": "1.5.0",
            "_model_name": "DescriptionStyleModel",
            "_view_count": null,
            "_view_module": "@jupyter-widgets/base",
            "_view_module_version": "1.2.0",
            "_view_name": "StyleView",
            "description_width": ""
          }
        },
        "60edcfea854a457085f3bd05c69c7192": {
          "model_module": "@jupyter-widgets/base",
          "model_name": "LayoutModel",
          "model_module_version": "1.2.0",
          "state": {
            "_model_module": "@jupyter-widgets/base",
            "_model_module_version": "1.2.0",
            "_model_name": "LayoutModel",
            "_view_count": null,
            "_view_module": "@jupyter-widgets/base",
            "_view_module_version": "1.2.0",
            "_view_name": "LayoutView",
            "align_content": null,
            "align_items": null,
            "align_self": null,
            "border": null,
            "bottom": null,
            "display": null,
            "flex": null,
            "flex_flow": null,
            "grid_area": null,
            "grid_auto_columns": null,
            "grid_auto_flow": null,
            "grid_auto_rows": null,
            "grid_column": null,
            "grid_gap": null,
            "grid_row": null,
            "grid_template_areas": null,
            "grid_template_columns": null,
            "grid_template_rows": null,
            "height": null,
            "justify_content": null,
            "justify_items": null,
            "left": null,
            "margin": null,
            "max_height": null,
            "max_width": null,
            "min_height": null,
            "min_width": null,
            "object_fit": null,
            "object_position": null,
            "order": null,
            "overflow": null,
            "overflow_x": null,
            "overflow_y": null,
            "padding": null,
            "right": null,
            "top": null,
            "visibility": null,
            "width": null
          }
        },
        "470269c9bba64486966504896e3b4320": {
          "model_module": "@jupyter-widgets/controls",
          "model_name": "ProgressStyleModel",
          "model_module_version": "1.5.0",
          "state": {
            "_model_module": "@jupyter-widgets/controls",
            "_model_module_version": "1.5.0",
            "_model_name": "ProgressStyleModel",
            "_view_count": null,
            "_view_module": "@jupyter-widgets/base",
            "_view_module_version": "1.2.0",
            "_view_name": "StyleView",
            "bar_color": null,
            "description_width": ""
          }
        },
        "92b97581b4264e4e89562009d26cb75e": {
          "model_module": "@jupyter-widgets/base",
          "model_name": "LayoutModel",
          "model_module_version": "1.2.0",
          "state": {
            "_model_module": "@jupyter-widgets/base",
            "_model_module_version": "1.2.0",
            "_model_name": "LayoutModel",
            "_view_count": null,
            "_view_module": "@jupyter-widgets/base",
            "_view_module_version": "1.2.0",
            "_view_name": "LayoutView",
            "align_content": null,
            "align_items": null,
            "align_self": null,
            "border": null,
            "bottom": null,
            "display": null,
            "flex": null,
            "flex_flow": null,
            "grid_area": null,
            "grid_auto_columns": null,
            "grid_auto_flow": null,
            "grid_auto_rows": null,
            "grid_column": null,
            "grid_gap": null,
            "grid_row": null,
            "grid_template_areas": null,
            "grid_template_columns": null,
            "grid_template_rows": null,
            "height": null,
            "justify_content": null,
            "justify_items": null,
            "left": null,
            "margin": null,
            "max_height": null,
            "max_width": null,
            "min_height": null,
            "min_width": null,
            "object_fit": null,
            "object_position": null,
            "order": null,
            "overflow": null,
            "overflow_x": null,
            "overflow_y": null,
            "padding": null,
            "right": null,
            "top": null,
            "visibility": null,
            "width": null
          }
        },
        "3bc727d3de454f80a59d1667b2247b95": {
          "model_module": "@jupyter-widgets/controls",
          "model_name": "DescriptionStyleModel",
          "model_module_version": "1.5.0",
          "state": {
            "_model_module": "@jupyter-widgets/controls",
            "_model_module_version": "1.5.0",
            "_model_name": "DescriptionStyleModel",
            "_view_count": null,
            "_view_module": "@jupyter-widgets/base",
            "_view_module_version": "1.2.0",
            "_view_name": "StyleView",
            "description_width": ""
          }
        },
        "7040217c2afe4374b16723cbd99737ff": {
          "model_module": "@jupyter-widgets/controls",
          "model_name": "HBoxModel",
          "model_module_version": "1.5.0",
          "state": {
            "_dom_classes": [],
            "_model_module": "@jupyter-widgets/controls",
            "_model_module_version": "1.5.0",
            "_model_name": "HBoxModel",
            "_view_count": null,
            "_view_module": "@jupyter-widgets/controls",
            "_view_module_version": "1.5.0",
            "_view_name": "HBoxView",
            "box_style": "",
            "children": [
              "IPY_MODEL_41a05e6b0f7e4d4fa05ac8ca669cd02d",
              "IPY_MODEL_fa07f58c6b424f549efbf222a0b93c2f",
              "IPY_MODEL_e47223a7b4e044f294cd5eb91266d423"
            ],
            "layout": "IPY_MODEL_2836cb3ed3f245aa9f4a480696079635"
          }
        },
        "41a05e6b0f7e4d4fa05ac8ca669cd02d": {
          "model_module": "@jupyter-widgets/controls",
          "model_name": "HTMLModel",
          "model_module_version": "1.5.0",
          "state": {
            "_dom_classes": [],
            "_model_module": "@jupyter-widgets/controls",
            "_model_module_version": "1.5.0",
            "_model_name": "HTMLModel",
            "_view_count": null,
            "_view_module": "@jupyter-widgets/controls",
            "_view_module_version": "1.5.0",
            "_view_name": "HTMLView",
            "description": "",
            "description_tooltip": null,
            "layout": "IPY_MODEL_60a5b05f7e1e4f5fbe192dd5bc960ecc",
            "placeholder": "​",
            "style": "IPY_MODEL_0af40446d7ec4dc68ec7555ac62bf94f",
            "value": "Map:   0%"
          }
        },
        "fa07f58c6b424f549efbf222a0b93c2f": {
          "model_module": "@jupyter-widgets/controls",
          "model_name": "FloatProgressModel",
          "model_module_version": "1.5.0",
          "state": {
            "_dom_classes": [],
            "_model_module": "@jupyter-widgets/controls",
            "_model_module_version": "1.5.0",
            "_model_name": "FloatProgressModel",
            "_view_count": null,
            "_view_module": "@jupyter-widgets/controls",
            "_view_module_version": "1.5.0",
            "_view_name": "ProgressView",
            "bar_style": "",
            "description": "",
            "description_tooltip": null,
            "layout": "IPY_MODEL_854ef9c9ccde4c528cbe935c012cffa4",
            "max": 1,
            "min": 0,
            "orientation": "horizontal",
            "style": "IPY_MODEL_00789698365e4937a9822aa1c23d7998",
            "value": 1
          }
        },
        "e47223a7b4e044f294cd5eb91266d423": {
          "model_module": "@jupyter-widgets/controls",
          "model_name": "HTMLModel",
          "model_module_version": "1.5.0",
          "state": {
            "_dom_classes": [],
            "_model_module": "@jupyter-widgets/controls",
            "_model_module_version": "1.5.0",
            "_model_name": "HTMLModel",
            "_view_count": null,
            "_view_module": "@jupyter-widgets/controls",
            "_view_module_version": "1.5.0",
            "_view_name": "HTMLView",
            "description": "",
            "description_tooltip": null,
            "layout": "IPY_MODEL_fbb00e44257b410b9465f2299e69ed56",
            "placeholder": "​",
            "style": "IPY_MODEL_28c7e85d6e9142a29a877955c2d3c992",
            "value": " 0/1 [00:00&lt;?, ? examples/s]"
          }
        },
        "2836cb3ed3f245aa9f4a480696079635": {
          "model_module": "@jupyter-widgets/base",
          "model_name": "LayoutModel",
          "model_module_version": "1.2.0",
          "state": {
            "_model_module": "@jupyter-widgets/base",
            "_model_module_version": "1.2.0",
            "_model_name": "LayoutModel",
            "_view_count": null,
            "_view_module": "@jupyter-widgets/base",
            "_view_module_version": "1.2.0",
            "_view_name": "LayoutView",
            "align_content": null,
            "align_items": null,
            "align_self": null,
            "border": null,
            "bottom": null,
            "display": null,
            "flex": null,
            "flex_flow": null,
            "grid_area": null,
            "grid_auto_columns": null,
            "grid_auto_flow": null,
            "grid_auto_rows": null,
            "grid_column": null,
            "grid_gap": null,
            "grid_row": null,
            "grid_template_areas": null,
            "grid_template_columns": null,
            "grid_template_rows": null,
            "height": null,
            "justify_content": null,
            "justify_items": null,
            "left": null,
            "margin": null,
            "max_height": null,
            "max_width": null,
            "min_height": null,
            "min_width": null,
            "object_fit": null,
            "object_position": null,
            "order": null,
            "overflow": null,
            "overflow_x": null,
            "overflow_y": null,
            "padding": null,
            "right": null,
            "top": null,
            "visibility": "hidden",
            "width": null
          }
        },
        "60a5b05f7e1e4f5fbe192dd5bc960ecc": {
          "model_module": "@jupyter-widgets/base",
          "model_name": "LayoutModel",
          "model_module_version": "1.2.0",
          "state": {
            "_model_module": "@jupyter-widgets/base",
            "_model_module_version": "1.2.0",
            "_model_name": "LayoutModel",
            "_view_count": null,
            "_view_module": "@jupyter-widgets/base",
            "_view_module_version": "1.2.0",
            "_view_name": "LayoutView",
            "align_content": null,
            "align_items": null,
            "align_self": null,
            "border": null,
            "bottom": null,
            "display": null,
            "flex": null,
            "flex_flow": null,
            "grid_area": null,
            "grid_auto_columns": null,
            "grid_auto_flow": null,
            "grid_auto_rows": null,
            "grid_column": null,
            "grid_gap": null,
            "grid_row": null,
            "grid_template_areas": null,
            "grid_template_columns": null,
            "grid_template_rows": null,
            "height": null,
            "justify_content": null,
            "justify_items": null,
            "left": null,
            "margin": null,
            "max_height": null,
            "max_width": null,
            "min_height": null,
            "min_width": null,
            "object_fit": null,
            "object_position": null,
            "order": null,
            "overflow": null,
            "overflow_x": null,
            "overflow_y": null,
            "padding": null,
            "right": null,
            "top": null,
            "visibility": null,
            "width": null
          }
        },
        "0af40446d7ec4dc68ec7555ac62bf94f": {
          "model_module": "@jupyter-widgets/controls",
          "model_name": "DescriptionStyleModel",
          "model_module_version": "1.5.0",
          "state": {
            "_model_module": "@jupyter-widgets/controls",
            "_model_module_version": "1.5.0",
            "_model_name": "DescriptionStyleModel",
            "_view_count": null,
            "_view_module": "@jupyter-widgets/base",
            "_view_module_version": "1.2.0",
            "_view_name": "StyleView",
            "description_width": ""
          }
        },
        "854ef9c9ccde4c528cbe935c012cffa4": {
          "model_module": "@jupyter-widgets/base",
          "model_name": "LayoutModel",
          "model_module_version": "1.2.0",
          "state": {
            "_model_module": "@jupyter-widgets/base",
            "_model_module_version": "1.2.0",
            "_model_name": "LayoutModel",
            "_view_count": null,
            "_view_module": "@jupyter-widgets/base",
            "_view_module_version": "1.2.0",
            "_view_name": "LayoutView",
            "align_content": null,
            "align_items": null,
            "align_self": null,
            "border": null,
            "bottom": null,
            "display": null,
            "flex": null,
            "flex_flow": null,
            "grid_area": null,
            "grid_auto_columns": null,
            "grid_auto_flow": null,
            "grid_auto_rows": null,
            "grid_column": null,
            "grid_gap": null,
            "grid_row": null,
            "grid_template_areas": null,
            "grid_template_columns": null,
            "grid_template_rows": null,
            "height": null,
            "justify_content": null,
            "justify_items": null,
            "left": null,
            "margin": null,
            "max_height": null,
            "max_width": null,
            "min_height": null,
            "min_width": null,
            "object_fit": null,
            "object_position": null,
            "order": null,
            "overflow": null,
            "overflow_x": null,
            "overflow_y": null,
            "padding": null,
            "right": null,
            "top": null,
            "visibility": null,
            "width": null
          }
        },
        "00789698365e4937a9822aa1c23d7998": {
          "model_module": "@jupyter-widgets/controls",
          "model_name": "ProgressStyleModel",
          "model_module_version": "1.5.0",
          "state": {
            "_model_module": "@jupyter-widgets/controls",
            "_model_module_version": "1.5.0",
            "_model_name": "ProgressStyleModel",
            "_view_count": null,
            "_view_module": "@jupyter-widgets/base",
            "_view_module_version": "1.2.0",
            "_view_name": "StyleView",
            "bar_color": null,
            "description_width": ""
          }
        },
        "fbb00e44257b410b9465f2299e69ed56": {
          "model_module": "@jupyter-widgets/base",
          "model_name": "LayoutModel",
          "model_module_version": "1.2.0",
          "state": {
            "_model_module": "@jupyter-widgets/base",
            "_model_module_version": "1.2.0",
            "_model_name": "LayoutModel",
            "_view_count": null,
            "_view_module": "@jupyter-widgets/base",
            "_view_module_version": "1.2.0",
            "_view_name": "LayoutView",
            "align_content": null,
            "align_items": null,
            "align_self": null,
            "border": null,
            "bottom": null,
            "display": null,
            "flex": null,
            "flex_flow": null,
            "grid_area": null,
            "grid_auto_columns": null,
            "grid_auto_flow": null,
            "grid_auto_rows": null,
            "grid_column": null,
            "grid_gap": null,
            "grid_row": null,
            "grid_template_areas": null,
            "grid_template_columns": null,
            "grid_template_rows": null,
            "height": null,
            "justify_content": null,
            "justify_items": null,
            "left": null,
            "margin": null,
            "max_height": null,
            "max_width": null,
            "min_height": null,
            "min_width": null,
            "object_fit": null,
            "object_position": null,
            "order": null,
            "overflow": null,
            "overflow_x": null,
            "overflow_y": null,
            "padding": null,
            "right": null,
            "top": null,
            "visibility": null,
            "width": null
          }
        },
        "28c7e85d6e9142a29a877955c2d3c992": {
          "model_module": "@jupyter-widgets/controls",
          "model_name": "DescriptionStyleModel",
          "model_module_version": "1.5.0",
          "state": {
            "_model_module": "@jupyter-widgets/controls",
            "_model_module_version": "1.5.0",
            "_model_name": "DescriptionStyleModel",
            "_view_count": null,
            "_view_module": "@jupyter-widgets/base",
            "_view_module_version": "1.2.0",
            "_view_name": "StyleView",
            "description_width": ""
          }
        },
        "fa32e88bb24646988f123e846b321a9b": {
          "model_module": "@jupyter-widgets/controls",
          "model_name": "HBoxModel",
          "model_module_version": "1.5.0",
          "state": {
            "_dom_classes": [],
            "_model_module": "@jupyter-widgets/controls",
            "_model_module_version": "1.5.0",
            "_model_name": "HBoxModel",
            "_view_count": null,
            "_view_module": "@jupyter-widgets/controls",
            "_view_module_version": "1.5.0",
            "_view_name": "HBoxView",
            "box_style": "",
            "children": [
              "IPY_MODEL_aa930e59ec7f4f5d940f94047dad08d8",
              "IPY_MODEL_3a1dbfff484e4fa7bf065d99ad354130",
              "IPY_MODEL_2de62ff685fb48b3a7672e5cdd6ebc75"
            ],
            "layout": "IPY_MODEL_de38dd9020fc4576a0063c5136816ee2"
          }
        },
        "aa930e59ec7f4f5d940f94047dad08d8": {
          "model_module": "@jupyter-widgets/controls",
          "model_name": "HTMLModel",
          "model_module_version": "1.5.0",
          "state": {
            "_dom_classes": [],
            "_model_module": "@jupyter-widgets/controls",
            "_model_module_version": "1.5.0",
            "_model_name": "HTMLModel",
            "_view_count": null,
            "_view_module": "@jupyter-widgets/controls",
            "_view_module_version": "1.5.0",
            "_view_name": "HTMLView",
            "description": "",
            "description_tooltip": null,
            "layout": "IPY_MODEL_ee121a8fd23e4edfa3dcdffba72f8f90",
            "placeholder": "​",
            "style": "IPY_MODEL_5b7cdac197a942ecbde355cc9c26fe23",
            "value": "Map:   0%"
          }
        },
        "3a1dbfff484e4fa7bf065d99ad354130": {
          "model_module": "@jupyter-widgets/controls",
          "model_name": "FloatProgressModel",
          "model_module_version": "1.5.0",
          "state": {
            "_dom_classes": [],
            "_model_module": "@jupyter-widgets/controls",
            "_model_module_version": "1.5.0",
            "_model_name": "FloatProgressModel",
            "_view_count": null,
            "_view_module": "@jupyter-widgets/controls",
            "_view_module_version": "1.5.0",
            "_view_name": "ProgressView",
            "bar_style": "",
            "description": "",
            "description_tooltip": null,
            "layout": "IPY_MODEL_8ce5e1e3f3b247cc98c0da66e10c8618",
            "max": 1,
            "min": 0,
            "orientation": "horizontal",
            "style": "IPY_MODEL_736b3242fa6d43fda94c6fc465549da2",
            "value": 1
          }
        },
        "2de62ff685fb48b3a7672e5cdd6ebc75": {
          "model_module": "@jupyter-widgets/controls",
          "model_name": "HTMLModel",
          "model_module_version": "1.5.0",
          "state": {
            "_dom_classes": [],
            "_model_module": "@jupyter-widgets/controls",
            "_model_module_version": "1.5.0",
            "_model_name": "HTMLModel",
            "_view_count": null,
            "_view_module": "@jupyter-widgets/controls",
            "_view_module_version": "1.5.0",
            "_view_name": "HTMLView",
            "description": "",
            "description_tooltip": null,
            "layout": "IPY_MODEL_74ef66e9c1ba4c6dbf4f12817278decf",
            "placeholder": "​",
            "style": "IPY_MODEL_ac164c345afb4ad59645fce4d0ae7efd",
            "value": " 0/1 [00:00&lt;?, ? examples/s]"
          }
        },
        "de38dd9020fc4576a0063c5136816ee2": {
          "model_module": "@jupyter-widgets/base",
          "model_name": "LayoutModel",
          "model_module_version": "1.2.0",
          "state": {
            "_model_module": "@jupyter-widgets/base",
            "_model_module_version": "1.2.0",
            "_model_name": "LayoutModel",
            "_view_count": null,
            "_view_module": "@jupyter-widgets/base",
            "_view_module_version": "1.2.0",
            "_view_name": "LayoutView",
            "align_content": null,
            "align_items": null,
            "align_self": null,
            "border": null,
            "bottom": null,
            "display": null,
            "flex": null,
            "flex_flow": null,
            "grid_area": null,
            "grid_auto_columns": null,
            "grid_auto_flow": null,
            "grid_auto_rows": null,
            "grid_column": null,
            "grid_gap": null,
            "grid_row": null,
            "grid_template_areas": null,
            "grid_template_columns": null,
            "grid_template_rows": null,
            "height": null,
            "justify_content": null,
            "justify_items": null,
            "left": null,
            "margin": null,
            "max_height": null,
            "max_width": null,
            "min_height": null,
            "min_width": null,
            "object_fit": null,
            "object_position": null,
            "order": null,
            "overflow": null,
            "overflow_x": null,
            "overflow_y": null,
            "padding": null,
            "right": null,
            "top": null,
            "visibility": "hidden",
            "width": null
          }
        },
        "ee121a8fd23e4edfa3dcdffba72f8f90": {
          "model_module": "@jupyter-widgets/base",
          "model_name": "LayoutModel",
          "model_module_version": "1.2.0",
          "state": {
            "_model_module": "@jupyter-widgets/base",
            "_model_module_version": "1.2.0",
            "_model_name": "LayoutModel",
            "_view_count": null,
            "_view_module": "@jupyter-widgets/base",
            "_view_module_version": "1.2.0",
            "_view_name": "LayoutView",
            "align_content": null,
            "align_items": null,
            "align_self": null,
            "border": null,
            "bottom": null,
            "display": null,
            "flex": null,
            "flex_flow": null,
            "grid_area": null,
            "grid_auto_columns": null,
            "grid_auto_flow": null,
            "grid_auto_rows": null,
            "grid_column": null,
            "grid_gap": null,
            "grid_row": null,
            "grid_template_areas": null,
            "grid_template_columns": null,
            "grid_template_rows": null,
            "height": null,
            "justify_content": null,
            "justify_items": null,
            "left": null,
            "margin": null,
            "max_height": null,
            "max_width": null,
            "min_height": null,
            "min_width": null,
            "object_fit": null,
            "object_position": null,
            "order": null,
            "overflow": null,
            "overflow_x": null,
            "overflow_y": null,
            "padding": null,
            "right": null,
            "top": null,
            "visibility": null,
            "width": null
          }
        },
        "5b7cdac197a942ecbde355cc9c26fe23": {
          "model_module": "@jupyter-widgets/controls",
          "model_name": "DescriptionStyleModel",
          "model_module_version": "1.5.0",
          "state": {
            "_model_module": "@jupyter-widgets/controls",
            "_model_module_version": "1.5.0",
            "_model_name": "DescriptionStyleModel",
            "_view_count": null,
            "_view_module": "@jupyter-widgets/base",
            "_view_module_version": "1.2.0",
            "_view_name": "StyleView",
            "description_width": ""
          }
        },
        "8ce5e1e3f3b247cc98c0da66e10c8618": {
          "model_module": "@jupyter-widgets/base",
          "model_name": "LayoutModel",
          "model_module_version": "1.2.0",
          "state": {
            "_model_module": "@jupyter-widgets/base",
            "_model_module_version": "1.2.0",
            "_model_name": "LayoutModel",
            "_view_count": null,
            "_view_module": "@jupyter-widgets/base",
            "_view_module_version": "1.2.0",
            "_view_name": "LayoutView",
            "align_content": null,
            "align_items": null,
            "align_self": null,
            "border": null,
            "bottom": null,
            "display": null,
            "flex": null,
            "flex_flow": null,
            "grid_area": null,
            "grid_auto_columns": null,
            "grid_auto_flow": null,
            "grid_auto_rows": null,
            "grid_column": null,
            "grid_gap": null,
            "grid_row": null,
            "grid_template_areas": null,
            "grid_template_columns": null,
            "grid_template_rows": null,
            "height": null,
            "justify_content": null,
            "justify_items": null,
            "left": null,
            "margin": null,
            "max_height": null,
            "max_width": null,
            "min_height": null,
            "min_width": null,
            "object_fit": null,
            "object_position": null,
            "order": null,
            "overflow": null,
            "overflow_x": null,
            "overflow_y": null,
            "padding": null,
            "right": null,
            "top": null,
            "visibility": null,
            "width": null
          }
        },
        "736b3242fa6d43fda94c6fc465549da2": {
          "model_module": "@jupyter-widgets/controls",
          "model_name": "ProgressStyleModel",
          "model_module_version": "1.5.0",
          "state": {
            "_model_module": "@jupyter-widgets/controls",
            "_model_module_version": "1.5.0",
            "_model_name": "ProgressStyleModel",
            "_view_count": null,
            "_view_module": "@jupyter-widgets/base",
            "_view_module_version": "1.2.0",
            "_view_name": "StyleView",
            "bar_color": null,
            "description_width": ""
          }
        },
        "74ef66e9c1ba4c6dbf4f12817278decf": {
          "model_module": "@jupyter-widgets/base",
          "model_name": "LayoutModel",
          "model_module_version": "1.2.0",
          "state": {
            "_model_module": "@jupyter-widgets/base",
            "_model_module_version": "1.2.0",
            "_model_name": "LayoutModel",
            "_view_count": null,
            "_view_module": "@jupyter-widgets/base",
            "_view_module_version": "1.2.0",
            "_view_name": "LayoutView",
            "align_content": null,
            "align_items": null,
            "align_self": null,
            "border": null,
            "bottom": null,
            "display": null,
            "flex": null,
            "flex_flow": null,
            "grid_area": null,
            "grid_auto_columns": null,
            "grid_auto_flow": null,
            "grid_auto_rows": null,
            "grid_column": null,
            "grid_gap": null,
            "grid_row": null,
            "grid_template_areas": null,
            "grid_template_columns": null,
            "grid_template_rows": null,
            "height": null,
            "justify_content": null,
            "justify_items": null,
            "left": null,
            "margin": null,
            "max_height": null,
            "max_width": null,
            "min_height": null,
            "min_width": null,
            "object_fit": null,
            "object_position": null,
            "order": null,
            "overflow": null,
            "overflow_x": null,
            "overflow_y": null,
            "padding": null,
            "right": null,
            "top": null,
            "visibility": null,
            "width": null
          }
        },
        "ac164c345afb4ad59645fce4d0ae7efd": {
          "model_module": "@jupyter-widgets/controls",
          "model_name": "DescriptionStyleModel",
          "model_module_version": "1.5.0",
          "state": {
            "_model_module": "@jupyter-widgets/controls",
            "_model_module_version": "1.5.0",
            "_model_name": "DescriptionStyleModel",
            "_view_count": null,
            "_view_module": "@jupyter-widgets/base",
            "_view_module_version": "1.2.0",
            "_view_name": "StyleView",
            "description_width": ""
          }
        },
        "2e429ff5c0db45cdb8b85c4743d793d6": {
          "model_module": "@jupyter-widgets/controls",
          "model_name": "HBoxModel",
          "model_module_version": "1.5.0",
          "state": {
            "_dom_classes": [],
            "_model_module": "@jupyter-widgets/controls",
            "_model_module_version": "1.5.0",
            "_model_name": "HBoxModel",
            "_view_count": null,
            "_view_module": "@jupyter-widgets/controls",
            "_view_module_version": "1.5.0",
            "_view_name": "HBoxView",
            "box_style": "",
            "children": [
              "IPY_MODEL_c498d8c1b56e4e99994cab496413c551",
              "IPY_MODEL_8d52fe2787924b7087674534a4816c73",
              "IPY_MODEL_573a46e0f8e847f4a617c69a662ac0c9"
            ],
            "layout": "IPY_MODEL_885feafcb32c40dab9b431002f916c02"
          }
        },
        "c498d8c1b56e4e99994cab496413c551": {
          "model_module": "@jupyter-widgets/controls",
          "model_name": "HTMLModel",
          "model_module_version": "1.5.0",
          "state": {
            "_dom_classes": [],
            "_model_module": "@jupyter-widgets/controls",
            "_model_module_version": "1.5.0",
            "_model_name": "HTMLModel",
            "_view_count": null,
            "_view_module": "@jupyter-widgets/controls",
            "_view_module_version": "1.5.0",
            "_view_name": "HTMLView",
            "description": "",
            "description_tooltip": null,
            "layout": "IPY_MODEL_c11e78821f634e138b968f0621908918",
            "placeholder": "​",
            "style": "IPY_MODEL_1df5c16760224325af30fa8544a558ba",
            "value": "Map:   0%"
          }
        },
        "8d52fe2787924b7087674534a4816c73": {
          "model_module": "@jupyter-widgets/controls",
          "model_name": "FloatProgressModel",
          "model_module_version": "1.5.0",
          "state": {
            "_dom_classes": [],
            "_model_module": "@jupyter-widgets/controls",
            "_model_module_version": "1.5.0",
            "_model_name": "FloatProgressModel",
            "_view_count": null,
            "_view_module": "@jupyter-widgets/controls",
            "_view_module_version": "1.5.0",
            "_view_name": "ProgressView",
            "bar_style": "",
            "description": "",
            "description_tooltip": null,
            "layout": "IPY_MODEL_3957f1880fe8428eb54fe6693eba5553",
            "max": 46,
            "min": 0,
            "orientation": "horizontal",
            "style": "IPY_MODEL_2ec6e6a0ec6f40f7aadd988e2064b1dd",
            "value": 46
          }
        },
        "573a46e0f8e847f4a617c69a662ac0c9": {
          "model_module": "@jupyter-widgets/controls",
          "model_name": "HTMLModel",
          "model_module_version": "1.5.0",
          "state": {
            "_dom_classes": [],
            "_model_module": "@jupyter-widgets/controls",
            "_model_module_version": "1.5.0",
            "_model_name": "HTMLModel",
            "_view_count": null,
            "_view_module": "@jupyter-widgets/controls",
            "_view_module_version": "1.5.0",
            "_view_name": "HTMLView",
            "description": "",
            "description_tooltip": null,
            "layout": "IPY_MODEL_9b6436842764464a9535b7762b4d5bcb",
            "placeholder": "​",
            "style": "IPY_MODEL_4913a8a0f1e0439ab82c1c6575814d0b",
            "value": " 0/46 [00:00&lt;?, ? examples/s]"
          }
        },
        "885feafcb32c40dab9b431002f916c02": {
          "model_module": "@jupyter-widgets/base",
          "model_name": "LayoutModel",
          "model_module_version": "1.2.0",
          "state": {
            "_model_module": "@jupyter-widgets/base",
            "_model_module_version": "1.2.0",
            "_model_name": "LayoutModel",
            "_view_count": null,
            "_view_module": "@jupyter-widgets/base",
            "_view_module_version": "1.2.0",
            "_view_name": "LayoutView",
            "align_content": null,
            "align_items": null,
            "align_self": null,
            "border": null,
            "bottom": null,
            "display": null,
            "flex": null,
            "flex_flow": null,
            "grid_area": null,
            "grid_auto_columns": null,
            "grid_auto_flow": null,
            "grid_auto_rows": null,
            "grid_column": null,
            "grid_gap": null,
            "grid_row": null,
            "grid_template_areas": null,
            "grid_template_columns": null,
            "grid_template_rows": null,
            "height": null,
            "justify_content": null,
            "justify_items": null,
            "left": null,
            "margin": null,
            "max_height": null,
            "max_width": null,
            "min_height": null,
            "min_width": null,
            "object_fit": null,
            "object_position": null,
            "order": null,
            "overflow": null,
            "overflow_x": null,
            "overflow_y": null,
            "padding": null,
            "right": null,
            "top": null,
            "visibility": "hidden",
            "width": null
          }
        },
        "c11e78821f634e138b968f0621908918": {
          "model_module": "@jupyter-widgets/base",
          "model_name": "LayoutModel",
          "model_module_version": "1.2.0",
          "state": {
            "_model_module": "@jupyter-widgets/base",
            "_model_module_version": "1.2.0",
            "_model_name": "LayoutModel",
            "_view_count": null,
            "_view_module": "@jupyter-widgets/base",
            "_view_module_version": "1.2.0",
            "_view_name": "LayoutView",
            "align_content": null,
            "align_items": null,
            "align_self": null,
            "border": null,
            "bottom": null,
            "display": null,
            "flex": null,
            "flex_flow": null,
            "grid_area": null,
            "grid_auto_columns": null,
            "grid_auto_flow": null,
            "grid_auto_rows": null,
            "grid_column": null,
            "grid_gap": null,
            "grid_row": null,
            "grid_template_areas": null,
            "grid_template_columns": null,
            "grid_template_rows": null,
            "height": null,
            "justify_content": null,
            "justify_items": null,
            "left": null,
            "margin": null,
            "max_height": null,
            "max_width": null,
            "min_height": null,
            "min_width": null,
            "object_fit": null,
            "object_position": null,
            "order": null,
            "overflow": null,
            "overflow_x": null,
            "overflow_y": null,
            "padding": null,
            "right": null,
            "top": null,
            "visibility": null,
            "width": null
          }
        },
        "1df5c16760224325af30fa8544a558ba": {
          "model_module": "@jupyter-widgets/controls",
          "model_name": "DescriptionStyleModel",
          "model_module_version": "1.5.0",
          "state": {
            "_model_module": "@jupyter-widgets/controls",
            "_model_module_version": "1.5.0",
            "_model_name": "DescriptionStyleModel",
            "_view_count": null,
            "_view_module": "@jupyter-widgets/base",
            "_view_module_version": "1.2.0",
            "_view_name": "StyleView",
            "description_width": ""
          }
        },
        "3957f1880fe8428eb54fe6693eba5553": {
          "model_module": "@jupyter-widgets/base",
          "model_name": "LayoutModel",
          "model_module_version": "1.2.0",
          "state": {
            "_model_module": "@jupyter-widgets/base",
            "_model_module_version": "1.2.0",
            "_model_name": "LayoutModel",
            "_view_count": null,
            "_view_module": "@jupyter-widgets/base",
            "_view_module_version": "1.2.0",
            "_view_name": "LayoutView",
            "align_content": null,
            "align_items": null,
            "align_self": null,
            "border": null,
            "bottom": null,
            "display": null,
            "flex": null,
            "flex_flow": null,
            "grid_area": null,
            "grid_auto_columns": null,
            "grid_auto_flow": null,
            "grid_auto_rows": null,
            "grid_column": null,
            "grid_gap": null,
            "grid_row": null,
            "grid_template_areas": null,
            "grid_template_columns": null,
            "grid_template_rows": null,
            "height": null,
            "justify_content": null,
            "justify_items": null,
            "left": null,
            "margin": null,
            "max_height": null,
            "max_width": null,
            "min_height": null,
            "min_width": null,
            "object_fit": null,
            "object_position": null,
            "order": null,
            "overflow": null,
            "overflow_x": null,
            "overflow_y": null,
            "padding": null,
            "right": null,
            "top": null,
            "visibility": null,
            "width": null
          }
        },
        "2ec6e6a0ec6f40f7aadd988e2064b1dd": {
          "model_module": "@jupyter-widgets/controls",
          "model_name": "ProgressStyleModel",
          "model_module_version": "1.5.0",
          "state": {
            "_model_module": "@jupyter-widgets/controls",
            "_model_module_version": "1.5.0",
            "_model_name": "ProgressStyleModel",
            "_view_count": null,
            "_view_module": "@jupyter-widgets/base",
            "_view_module_version": "1.2.0",
            "_view_name": "StyleView",
            "bar_color": null,
            "description_width": ""
          }
        },
        "9b6436842764464a9535b7762b4d5bcb": {
          "model_module": "@jupyter-widgets/base",
          "model_name": "LayoutModel",
          "model_module_version": "1.2.0",
          "state": {
            "_model_module": "@jupyter-widgets/base",
            "_model_module_version": "1.2.0",
            "_model_name": "LayoutModel",
            "_view_count": null,
            "_view_module": "@jupyter-widgets/base",
            "_view_module_version": "1.2.0",
            "_view_name": "LayoutView",
            "align_content": null,
            "align_items": null,
            "align_self": null,
            "border": null,
            "bottom": null,
            "display": null,
            "flex": null,
            "flex_flow": null,
            "grid_area": null,
            "grid_auto_columns": null,
            "grid_auto_flow": null,
            "grid_auto_rows": null,
            "grid_column": null,
            "grid_gap": null,
            "grid_row": null,
            "grid_template_areas": null,
            "grid_template_columns": null,
            "grid_template_rows": null,
            "height": null,
            "justify_content": null,
            "justify_items": null,
            "left": null,
            "margin": null,
            "max_height": null,
            "max_width": null,
            "min_height": null,
            "min_width": null,
            "object_fit": null,
            "object_position": null,
            "order": null,
            "overflow": null,
            "overflow_x": null,
            "overflow_y": null,
            "padding": null,
            "right": null,
            "top": null,
            "visibility": null,
            "width": null
          }
        },
        "4913a8a0f1e0439ab82c1c6575814d0b": {
          "model_module": "@jupyter-widgets/controls",
          "model_name": "DescriptionStyleModel",
          "model_module_version": "1.5.0",
          "state": {
            "_model_module": "@jupyter-widgets/controls",
            "_model_module_version": "1.5.0",
            "_model_name": "DescriptionStyleModel",
            "_view_count": null,
            "_view_module": "@jupyter-widgets/base",
            "_view_module_version": "1.2.0",
            "_view_name": "StyleView",
            "description_width": ""
          }
        }
      }
    }
  },
  "nbformat": 4,
  "nbformat_minor": 0
}